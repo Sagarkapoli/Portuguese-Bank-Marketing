{
 "cells": [
  {
   "cell_type": "markdown",
   "id": "6cb61cda",
   "metadata": {},
   "source": [
    "## importing the libraries"
   ]
  },
  {
   "cell_type": "code",
   "execution_count": 1,
   "id": "5b8443c2",
   "metadata": {
    "execution": {
     "iopub.execute_input": "2022-05-23T07:07:17.989867Z",
     "iopub.status.busy": "2022-05-23T07:07:17.988880Z",
     "iopub.status.idle": "2022-05-23T07:07:19.127752Z",
     "shell.execute_reply": "2022-05-23T07:07:19.126782Z"
    },
    "papermill": {
     "duration": 1.211461,
     "end_time": "2022-05-23T07:07:19.130216",
     "exception": false,
     "start_time": "2022-05-23T07:07:17.918755",
     "status": "completed"
    },
    "tags": []
   },
   "outputs": [],
   "source": [
    "import numpy as np\n",
    "import pandas as pd\n",
    "import matplotlib.pyplot as plt\n",
    "import seaborn as sns"
   ]
  },
  {
   "cell_type": "markdown",
   "id": "fb29d073",
   "metadata": {},
   "source": [
    "## Loading the Data"
   ]
  },
  {
   "cell_type": "code",
   "execution_count": 2,
   "id": "fea5897f",
   "metadata": {
    "execution": {
     "iopub.execute_input": "2022-05-23T07:07:19.272886Z",
     "iopub.status.busy": "2022-05-23T07:07:19.272564Z",
     "iopub.status.idle": "2022-05-23T07:07:19.544093Z",
     "shell.execute_reply": "2022-05-23T07:07:19.543240Z"
    },
    "papermill": {
     "duration": 0.343702,
     "end_time": "2022-05-23T07:07:19.546691",
     "exception": false,
     "start_time": "2022-05-23T07:07:19.202989",
     "status": "completed"
    },
    "tags": []
   },
   "outputs": [
    {
     "data": {
      "text/html": [
       "<div>\n",
       "<style scoped>\n",
       "    .dataframe tbody tr th:only-of-type {\n",
       "        vertical-align: middle;\n",
       "    }\n",
       "\n",
       "    .dataframe tbody tr th {\n",
       "        vertical-align: top;\n",
       "    }\n",
       "\n",
       "    .dataframe thead th {\n",
       "        text-align: right;\n",
       "    }\n",
       "</style>\n",
       "<table border=\"1\" class=\"dataframe\">\n",
       "  <thead>\n",
       "    <tr style=\"text-align: right;\">\n",
       "      <th></th>\n",
       "      <th>age</th>\n",
       "      <th>job</th>\n",
       "      <th>marital</th>\n",
       "      <th>education</th>\n",
       "      <th>default</th>\n",
       "      <th>housing</th>\n",
       "      <th>loan</th>\n",
       "      <th>contact</th>\n",
       "      <th>month</th>\n",
       "      <th>day_of_week</th>\n",
       "      <th>...</th>\n",
       "      <th>campaign</th>\n",
       "      <th>pdays</th>\n",
       "      <th>previous</th>\n",
       "      <th>poutcome</th>\n",
       "      <th>emp.var.rate</th>\n",
       "      <th>cons.price.idx</th>\n",
       "      <th>cons.conf.idx</th>\n",
       "      <th>euribor3m</th>\n",
       "      <th>nr.employed</th>\n",
       "      <th>y</th>\n",
       "    </tr>\n",
       "  </thead>\n",
       "  <tbody>\n",
       "    <tr>\n",
       "      <th>0</th>\n",
       "      <td>56</td>\n",
       "      <td>housemaid</td>\n",
       "      <td>married</td>\n",
       "      <td>basic.4y</td>\n",
       "      <td>no</td>\n",
       "      <td>no</td>\n",
       "      <td>no</td>\n",
       "      <td>telephone</td>\n",
       "      <td>may</td>\n",
       "      <td>mon</td>\n",
       "      <td>...</td>\n",
       "      <td>1</td>\n",
       "      <td>999</td>\n",
       "      <td>0</td>\n",
       "      <td>nonexistent</td>\n",
       "      <td>1.1</td>\n",
       "      <td>93.994</td>\n",
       "      <td>-36.4</td>\n",
       "      <td>4.857</td>\n",
       "      <td>5191.0</td>\n",
       "      <td>no</td>\n",
       "    </tr>\n",
       "    <tr>\n",
       "      <th>1</th>\n",
       "      <td>57</td>\n",
       "      <td>services</td>\n",
       "      <td>married</td>\n",
       "      <td>high.school</td>\n",
       "      <td>unknown</td>\n",
       "      <td>no</td>\n",
       "      <td>no</td>\n",
       "      <td>telephone</td>\n",
       "      <td>may</td>\n",
       "      <td>mon</td>\n",
       "      <td>...</td>\n",
       "      <td>1</td>\n",
       "      <td>999</td>\n",
       "      <td>0</td>\n",
       "      <td>nonexistent</td>\n",
       "      <td>1.1</td>\n",
       "      <td>93.994</td>\n",
       "      <td>-36.4</td>\n",
       "      <td>4.857</td>\n",
       "      <td>5191.0</td>\n",
       "      <td>no</td>\n",
       "    </tr>\n",
       "    <tr>\n",
       "      <th>2</th>\n",
       "      <td>37</td>\n",
       "      <td>services</td>\n",
       "      <td>married</td>\n",
       "      <td>high.school</td>\n",
       "      <td>no</td>\n",
       "      <td>yes</td>\n",
       "      <td>no</td>\n",
       "      <td>telephone</td>\n",
       "      <td>may</td>\n",
       "      <td>mon</td>\n",
       "      <td>...</td>\n",
       "      <td>1</td>\n",
       "      <td>999</td>\n",
       "      <td>0</td>\n",
       "      <td>nonexistent</td>\n",
       "      <td>1.1</td>\n",
       "      <td>93.994</td>\n",
       "      <td>-36.4</td>\n",
       "      <td>4.857</td>\n",
       "      <td>5191.0</td>\n",
       "      <td>no</td>\n",
       "    </tr>\n",
       "    <tr>\n",
       "      <th>3</th>\n",
       "      <td>40</td>\n",
       "      <td>admin.</td>\n",
       "      <td>married</td>\n",
       "      <td>basic.6y</td>\n",
       "      <td>no</td>\n",
       "      <td>no</td>\n",
       "      <td>no</td>\n",
       "      <td>telephone</td>\n",
       "      <td>may</td>\n",
       "      <td>mon</td>\n",
       "      <td>...</td>\n",
       "      <td>1</td>\n",
       "      <td>999</td>\n",
       "      <td>0</td>\n",
       "      <td>nonexistent</td>\n",
       "      <td>1.1</td>\n",
       "      <td>93.994</td>\n",
       "      <td>-36.4</td>\n",
       "      <td>4.857</td>\n",
       "      <td>5191.0</td>\n",
       "      <td>no</td>\n",
       "    </tr>\n",
       "    <tr>\n",
       "      <th>4</th>\n",
       "      <td>56</td>\n",
       "      <td>services</td>\n",
       "      <td>married</td>\n",
       "      <td>high.school</td>\n",
       "      <td>no</td>\n",
       "      <td>no</td>\n",
       "      <td>yes</td>\n",
       "      <td>telephone</td>\n",
       "      <td>may</td>\n",
       "      <td>mon</td>\n",
       "      <td>...</td>\n",
       "      <td>1</td>\n",
       "      <td>999</td>\n",
       "      <td>0</td>\n",
       "      <td>nonexistent</td>\n",
       "      <td>1.1</td>\n",
       "      <td>93.994</td>\n",
       "      <td>-36.4</td>\n",
       "      <td>4.857</td>\n",
       "      <td>5191.0</td>\n",
       "      <td>no</td>\n",
       "    </tr>\n",
       "  </tbody>\n",
       "</table>\n",
       "<p>5 rows × 21 columns</p>\n",
       "</div>"
      ],
      "text/plain": [
       "   age        job  marital    education  default housing loan    contact  \\\n",
       "0   56  housemaid  married     basic.4y       no      no   no  telephone   \n",
       "1   57   services  married  high.school  unknown      no   no  telephone   \n",
       "2   37   services  married  high.school       no     yes   no  telephone   \n",
       "3   40     admin.  married     basic.6y       no      no   no  telephone   \n",
       "4   56   services  married  high.school       no      no  yes  telephone   \n",
       "\n",
       "  month day_of_week  ...  campaign  pdays  previous     poutcome emp.var.rate  \\\n",
       "0   may         mon  ...         1    999         0  nonexistent          1.1   \n",
       "1   may         mon  ...         1    999         0  nonexistent          1.1   \n",
       "2   may         mon  ...         1    999         0  nonexistent          1.1   \n",
       "3   may         mon  ...         1    999         0  nonexistent          1.1   \n",
       "4   may         mon  ...         1    999         0  nonexistent          1.1   \n",
       "\n",
       "   cons.price.idx  cons.conf.idx  euribor3m  nr.employed   y  \n",
       "0          93.994          -36.4      4.857       5191.0  no  \n",
       "1          93.994          -36.4      4.857       5191.0  no  \n",
       "2          93.994          -36.4      4.857       5191.0  no  \n",
       "3          93.994          -36.4      4.857       5191.0  no  \n",
       "4          93.994          -36.4      4.857       5191.0  no  \n",
       "\n",
       "[5 rows x 21 columns]"
      ]
     },
     "execution_count": 2,
     "metadata": {},
     "output_type": "execute_result"
    }
   ],
   "source": [
    "filename = 'bank-additional-full.csv'\n",
    "df = pd.read_csv(\"bank-additional-full.csv\",sep=\";\")\n",
    "df.head()"
   ]
  },
  {
   "cell_type": "markdown",
   "id": "fd34f5e1",
   "metadata": {
    "papermill": {
     "duration": 0.069477,
     "end_time": "2022-05-23T07:07:19.686121",
     "exception": false,
     "start_time": "2022-05-23T07:07:19.616644",
     "status": "completed"
    },
    "tags": []
   },
   "source": [
    "## Basic Checks"
   ]
  },
  {
   "cell_type": "code",
   "execution_count": 3,
   "id": "7dc0396d",
   "metadata": {
    "execution": {
     "iopub.execute_input": "2022-05-23T07:07:19.828065Z",
     "iopub.status.busy": "2022-05-23T07:07:19.827768Z",
     "iopub.status.idle": "2022-05-23T07:07:19.901107Z",
     "shell.execute_reply": "2022-05-23T07:07:19.900152Z"
    },
    "papermill": {
     "duration": 0.148005,
     "end_time": "2022-05-23T07:07:19.903408",
     "exception": false,
     "start_time": "2022-05-23T07:07:19.755403",
     "status": "completed"
    },
    "tags": []
   },
   "outputs": [
    {
     "name": "stdout",
     "output_type": "stream",
     "text": [
      "<class 'pandas.core.frame.DataFrame'>\n",
      "RangeIndex: 41188 entries, 0 to 41187\n",
      "Data columns (total 21 columns):\n",
      " #   Column          Non-Null Count  Dtype  \n",
      "---  ------          --------------  -----  \n",
      " 0   age             41188 non-null  int64  \n",
      " 1   job             41188 non-null  object \n",
      " 2   marital         41188 non-null  object \n",
      " 3   education       41188 non-null  object \n",
      " 4   default         41188 non-null  object \n",
      " 5   housing         41188 non-null  object \n",
      " 6   loan            41188 non-null  object \n",
      " 7   contact         41188 non-null  object \n",
      " 8   month           41188 non-null  object \n",
      " 9   day_of_week     41188 non-null  object \n",
      " 10  duration        41188 non-null  int64  \n",
      " 11  campaign        41188 non-null  int64  \n",
      " 12  pdays           41188 non-null  int64  \n",
      " 13  previous        41188 non-null  int64  \n",
      " 14  poutcome        41188 non-null  object \n",
      " 15  emp.var.rate    41188 non-null  float64\n",
      " 16  cons.price.idx  41188 non-null  float64\n",
      " 17  cons.conf.idx   41188 non-null  float64\n",
      " 18  euribor3m       41188 non-null  float64\n",
      " 19  nr.employed     41188 non-null  float64\n",
      " 20  y               41188 non-null  object \n",
      "dtypes: float64(5), int64(5), object(11)\n",
      "memory usage: 6.6+ MB\n"
     ]
    }
   ],
   "source": [
    "df.info()"
   ]
  },
  {
   "cell_type": "code",
   "execution_count": 4,
   "id": "d8fb7bc5",
   "metadata": {
    "execution": {
     "iopub.execute_input": "2022-05-23T07:07:20.050388Z",
     "iopub.status.busy": "2022-05-23T07:07:20.050020Z",
     "iopub.status.idle": "2022-05-23T07:07:20.104442Z",
     "shell.execute_reply": "2022-05-23T07:07:20.103561Z"
    },
    "papermill": {
     "duration": 0.130097,
     "end_time": "2022-05-23T07:07:20.106490",
     "exception": false,
     "start_time": "2022-05-23T07:07:19.976393",
     "status": "completed"
    },
    "tags": []
   },
   "outputs": [
    {
     "data": {
      "text/html": [
       "<div>\n",
       "<style scoped>\n",
       "    .dataframe tbody tr th:only-of-type {\n",
       "        vertical-align: middle;\n",
       "    }\n",
       "\n",
       "    .dataframe tbody tr th {\n",
       "        vertical-align: top;\n",
       "    }\n",
       "\n",
       "    .dataframe thead th {\n",
       "        text-align: right;\n",
       "    }\n",
       "</style>\n",
       "<table border=\"1\" class=\"dataframe\">\n",
       "  <thead>\n",
       "    <tr style=\"text-align: right;\">\n",
       "      <th></th>\n",
       "      <th>age</th>\n",
       "      <th>duration</th>\n",
       "      <th>campaign</th>\n",
       "      <th>pdays</th>\n",
       "      <th>previous</th>\n",
       "      <th>emp.var.rate</th>\n",
       "      <th>cons.price.idx</th>\n",
       "      <th>cons.conf.idx</th>\n",
       "      <th>euribor3m</th>\n",
       "      <th>nr.employed</th>\n",
       "    </tr>\n",
       "  </thead>\n",
       "  <tbody>\n",
       "    <tr>\n",
       "      <th>count</th>\n",
       "      <td>41188.00000</td>\n",
       "      <td>41188.000000</td>\n",
       "      <td>41188.000000</td>\n",
       "      <td>41188.000000</td>\n",
       "      <td>41188.000000</td>\n",
       "      <td>41188.000000</td>\n",
       "      <td>41188.000000</td>\n",
       "      <td>41188.000000</td>\n",
       "      <td>41188.000000</td>\n",
       "      <td>41188.000000</td>\n",
       "    </tr>\n",
       "    <tr>\n",
       "      <th>mean</th>\n",
       "      <td>40.02406</td>\n",
       "      <td>258.285010</td>\n",
       "      <td>2.567593</td>\n",
       "      <td>962.475454</td>\n",
       "      <td>0.172963</td>\n",
       "      <td>0.081886</td>\n",
       "      <td>93.575664</td>\n",
       "      <td>-40.502600</td>\n",
       "      <td>3.621291</td>\n",
       "      <td>5167.035911</td>\n",
       "    </tr>\n",
       "    <tr>\n",
       "      <th>std</th>\n",
       "      <td>10.42125</td>\n",
       "      <td>259.279249</td>\n",
       "      <td>2.770014</td>\n",
       "      <td>186.910907</td>\n",
       "      <td>0.494901</td>\n",
       "      <td>1.570960</td>\n",
       "      <td>0.578840</td>\n",
       "      <td>4.628198</td>\n",
       "      <td>1.734447</td>\n",
       "      <td>72.251528</td>\n",
       "    </tr>\n",
       "    <tr>\n",
       "      <th>min</th>\n",
       "      <td>17.00000</td>\n",
       "      <td>0.000000</td>\n",
       "      <td>1.000000</td>\n",
       "      <td>0.000000</td>\n",
       "      <td>0.000000</td>\n",
       "      <td>-3.400000</td>\n",
       "      <td>92.201000</td>\n",
       "      <td>-50.800000</td>\n",
       "      <td>0.634000</td>\n",
       "      <td>4963.600000</td>\n",
       "    </tr>\n",
       "    <tr>\n",
       "      <th>25%</th>\n",
       "      <td>32.00000</td>\n",
       "      <td>102.000000</td>\n",
       "      <td>1.000000</td>\n",
       "      <td>999.000000</td>\n",
       "      <td>0.000000</td>\n",
       "      <td>-1.800000</td>\n",
       "      <td>93.075000</td>\n",
       "      <td>-42.700000</td>\n",
       "      <td>1.344000</td>\n",
       "      <td>5099.100000</td>\n",
       "    </tr>\n",
       "    <tr>\n",
       "      <th>50%</th>\n",
       "      <td>38.00000</td>\n",
       "      <td>180.000000</td>\n",
       "      <td>2.000000</td>\n",
       "      <td>999.000000</td>\n",
       "      <td>0.000000</td>\n",
       "      <td>1.100000</td>\n",
       "      <td>93.749000</td>\n",
       "      <td>-41.800000</td>\n",
       "      <td>4.857000</td>\n",
       "      <td>5191.000000</td>\n",
       "    </tr>\n",
       "    <tr>\n",
       "      <th>75%</th>\n",
       "      <td>47.00000</td>\n",
       "      <td>319.000000</td>\n",
       "      <td>3.000000</td>\n",
       "      <td>999.000000</td>\n",
       "      <td>0.000000</td>\n",
       "      <td>1.400000</td>\n",
       "      <td>93.994000</td>\n",
       "      <td>-36.400000</td>\n",
       "      <td>4.961000</td>\n",
       "      <td>5228.100000</td>\n",
       "    </tr>\n",
       "    <tr>\n",
       "      <th>max</th>\n",
       "      <td>98.00000</td>\n",
       "      <td>4918.000000</td>\n",
       "      <td>56.000000</td>\n",
       "      <td>999.000000</td>\n",
       "      <td>7.000000</td>\n",
       "      <td>1.400000</td>\n",
       "      <td>94.767000</td>\n",
       "      <td>-26.900000</td>\n",
       "      <td>5.045000</td>\n",
       "      <td>5228.100000</td>\n",
       "    </tr>\n",
       "  </tbody>\n",
       "</table>\n",
       "</div>"
      ],
      "text/plain": [
       "               age      duration      campaign         pdays      previous  \\\n",
       "count  41188.00000  41188.000000  41188.000000  41188.000000  41188.000000   \n",
       "mean      40.02406    258.285010      2.567593    962.475454      0.172963   \n",
       "std       10.42125    259.279249      2.770014    186.910907      0.494901   \n",
       "min       17.00000      0.000000      1.000000      0.000000      0.000000   \n",
       "25%       32.00000    102.000000      1.000000    999.000000      0.000000   \n",
       "50%       38.00000    180.000000      2.000000    999.000000      0.000000   \n",
       "75%       47.00000    319.000000      3.000000    999.000000      0.000000   \n",
       "max       98.00000   4918.000000     56.000000    999.000000      7.000000   \n",
       "\n",
       "       emp.var.rate  cons.price.idx  cons.conf.idx     euribor3m   nr.employed  \n",
       "count  41188.000000    41188.000000   41188.000000  41188.000000  41188.000000  \n",
       "mean       0.081886       93.575664     -40.502600      3.621291   5167.035911  \n",
       "std        1.570960        0.578840       4.628198      1.734447     72.251528  \n",
       "min       -3.400000       92.201000     -50.800000      0.634000   4963.600000  \n",
       "25%       -1.800000       93.075000     -42.700000      1.344000   5099.100000  \n",
       "50%        1.100000       93.749000     -41.800000      4.857000   5191.000000  \n",
       "75%        1.400000       93.994000     -36.400000      4.961000   5228.100000  \n",
       "max        1.400000       94.767000     -26.900000      5.045000   5228.100000  "
      ]
     },
     "execution_count": 4,
     "metadata": {},
     "output_type": "execute_result"
    }
   ],
   "source": [
    "#Numerical statistical summary\n",
    "df.describe()"
   ]
  },
  {
   "cell_type": "code",
   "execution_count": 5,
   "id": "0702cb34",
   "metadata": {
    "execution": {
     "iopub.execute_input": "2022-05-23T07:07:20.250021Z",
     "iopub.status.busy": "2022-05-23T07:07:20.249724Z",
     "iopub.status.idle": "2022-05-23T07:07:20.390942Z",
     "shell.execute_reply": "2022-05-23T07:07:20.390327Z"
    },
    "papermill": {
     "duration": 0.214925,
     "end_time": "2022-05-23T07:07:20.393081",
     "exception": false,
     "start_time": "2022-05-23T07:07:20.178156",
     "status": "completed"
    },
    "tags": []
   },
   "outputs": [
    {
     "data": {
      "text/html": [
       "<div>\n",
       "<style scoped>\n",
       "    .dataframe tbody tr th:only-of-type {\n",
       "        vertical-align: middle;\n",
       "    }\n",
       "\n",
       "    .dataframe tbody tr th {\n",
       "        vertical-align: top;\n",
       "    }\n",
       "\n",
       "    .dataframe thead th {\n",
       "        text-align: right;\n",
       "    }\n",
       "</style>\n",
       "<table border=\"1\" class=\"dataframe\">\n",
       "  <thead>\n",
       "    <tr style=\"text-align: right;\">\n",
       "      <th></th>\n",
       "      <th>job</th>\n",
       "      <th>marital</th>\n",
       "      <th>education</th>\n",
       "      <th>default</th>\n",
       "      <th>housing</th>\n",
       "      <th>loan</th>\n",
       "      <th>contact</th>\n",
       "      <th>month</th>\n",
       "      <th>day_of_week</th>\n",
       "      <th>poutcome</th>\n",
       "      <th>y</th>\n",
       "    </tr>\n",
       "  </thead>\n",
       "  <tbody>\n",
       "    <tr>\n",
       "      <th>count</th>\n",
       "      <td>41188</td>\n",
       "      <td>41188</td>\n",
       "      <td>41188</td>\n",
       "      <td>41188</td>\n",
       "      <td>41188</td>\n",
       "      <td>41188</td>\n",
       "      <td>41188</td>\n",
       "      <td>41188</td>\n",
       "      <td>41188</td>\n",
       "      <td>41188</td>\n",
       "      <td>41188</td>\n",
       "    </tr>\n",
       "    <tr>\n",
       "      <th>unique</th>\n",
       "      <td>12</td>\n",
       "      <td>4</td>\n",
       "      <td>8</td>\n",
       "      <td>3</td>\n",
       "      <td>3</td>\n",
       "      <td>3</td>\n",
       "      <td>2</td>\n",
       "      <td>10</td>\n",
       "      <td>5</td>\n",
       "      <td>3</td>\n",
       "      <td>2</td>\n",
       "    </tr>\n",
       "    <tr>\n",
       "      <th>top</th>\n",
       "      <td>admin.</td>\n",
       "      <td>married</td>\n",
       "      <td>university.degree</td>\n",
       "      <td>no</td>\n",
       "      <td>yes</td>\n",
       "      <td>no</td>\n",
       "      <td>cellular</td>\n",
       "      <td>may</td>\n",
       "      <td>thu</td>\n",
       "      <td>nonexistent</td>\n",
       "      <td>no</td>\n",
       "    </tr>\n",
       "    <tr>\n",
       "      <th>freq</th>\n",
       "      <td>10422</td>\n",
       "      <td>24928</td>\n",
       "      <td>12168</td>\n",
       "      <td>32588</td>\n",
       "      <td>21576</td>\n",
       "      <td>33950</td>\n",
       "      <td>26144</td>\n",
       "      <td>13769</td>\n",
       "      <td>8623</td>\n",
       "      <td>35563</td>\n",
       "      <td>36548</td>\n",
       "    </tr>\n",
       "  </tbody>\n",
       "</table>\n",
       "</div>"
      ],
      "text/plain": [
       "           job  marital          education default housing   loan   contact  \\\n",
       "count    41188    41188              41188   41188   41188  41188     41188   \n",
       "unique      12        4                  8       3       3      3         2   \n",
       "top     admin.  married  university.degree      no     yes     no  cellular   \n",
       "freq     10422    24928              12168   32588   21576  33950     26144   \n",
       "\n",
       "        month day_of_week     poutcome      y  \n",
       "count   41188       41188        41188  41188  \n",
       "unique     10           5            3      2  \n",
       "top       may         thu  nonexistent     no  \n",
       "freq    13769        8623        35563  36548  "
      ]
     },
     "execution_count": 5,
     "metadata": {},
     "output_type": "execute_result"
    }
   ],
   "source": [
    "# Categorical statistical summary\n",
    "df.describe(include=object)"
   ]
  },
  {
   "cell_type": "markdown",
   "id": "8cac0dd7",
   "metadata": {},
   "source": [
    "## Exploratory data analysis (EDA)"
   ]
  },
  {
   "cell_type": "code",
   "execution_count": 6,
   "id": "ff55af67",
   "metadata": {
    "execution": {
     "iopub.execute_input": "2022-05-23T07:07:20.537798Z",
     "iopub.status.busy": "2022-05-23T07:07:20.537190Z",
     "iopub.status.idle": "2022-05-23T07:07:21.920940Z",
     "shell.execute_reply": "2022-05-23T07:07:21.920229Z"
    },
    "papermill": {
     "duration": 1.458225,
     "end_time": "2022-05-23T07:07:21.922979",
     "exception": false,
     "start_time": "2022-05-23T07:07:20.464754",
     "status": "completed"
    },
    "scrolled": true,
    "tags": []
   },
   "outputs": [
    {
     "data": {
      "image/png": "[encoded data removed]",
      "text/plain": [
       "<Figure size 1440x720 with 12 Axes>"
      ]
     },
     "metadata": {
      "needs_background": "light"
     },
     "output_type": "display_data"
    }
   ],
   "source": [
    "# Creating histogram\n",
    "df.hist(figsize= [20,10])\n",
    "plt.show()"
   ]
  },
  {
   "cell_type": "markdown",
   "id": "9ec2dc68",
   "metadata": {
    "papermill": {
     "duration": 0.075915,
     "end_time": "2022-05-23T07:07:22.072556",
     "exception": false,
     "start_time": "2022-05-23T07:07:21.996641",
     "status": "completed"
    },
    "tags": []
   },
   "source": [
    "### insights\n",
    "Above primary analysis shows that:\n",
    "\n",
    "1) the data covers age groups from 98 to 17 years with mean of 40 years;30% of the clients are graduates; 52% of clients have taken housing loan and 82% have no personal loan.\n",
    "\n",
    "2) Target variable y is categorical and has two categories- 'Yes' or 'No', hence this is a Classification Project.These two categories can be converted to binary and thus label encoding it. Maximum category found is 'No'.\n",
    "\n",
    "3) Other independent categorical variables- job, marital, education, default, housing, loan, contact, month, day_of_week, poutcome- can be one hot encoded\n",
    "\n",
    "4) Based on count, there are no missing values as such"
   ]
  },
  {
   "cell_type": "markdown",
   "id": "52fab3f7",
   "metadata": {
    "papermill": {
     "duration": 0.072432,
     "end_time": "2022-05-23T07:07:22.220349",
     "exception": false,
     "start_time": "2022-05-23T07:07:22.147917",
     "status": "completed"
    },
    "tags": []
   },
   "source": [
    "### MISSING VALUE ANALYSIS"
   ]
  },
  {
   "cell_type": "code",
   "execution_count": 7,
   "id": "104c9066",
   "metadata": {
    "execution": {
     "iopub.execute_input": "2022-05-23T07:07:22.369334Z",
     "iopub.status.busy": "2022-05-23T07:07:22.368768Z",
     "iopub.status.idle": "2022-05-23T07:07:22.425705Z",
     "shell.execute_reply": "2022-05-23T07:07:22.424813Z"
    },
    "papermill": {
     "duration": 0.133507,
     "end_time": "2022-05-23T07:07:22.427810",
     "exception": false,
     "start_time": "2022-05-23T07:07:22.294303",
     "status": "completed"
    },
    "tags": []
   },
   "outputs": [
    {
     "data": {
      "text/plain": [
       "age               0\n",
       "job               0\n",
       "marital           0\n",
       "education         0\n",
       "default           0\n",
       "housing           0\n",
       "loan              0\n",
       "contact           0\n",
       "month             0\n",
       "day_of_week       0\n",
       "duration          0\n",
       "campaign          0\n",
       "pdays             0\n",
       "previous          0\n",
       "poutcome          0\n",
       "emp.var.rate      0\n",
       "cons.price.idx    0\n",
       "cons.conf.idx     0\n",
       "euribor3m         0\n",
       "nr.employed       0\n",
       "y                 0\n",
       "dtype: int64"
      ]
     },
     "execution_count": 7,
     "metadata": {},
     "output_type": "execute_result"
    }
   ],
   "source": [
    "df.isnull().sum()"
   ]
  },
  {
   "cell_type": "markdown",
   "id": "ecf1a049",
   "metadata": {
    "papermill": {
     "duration": 0.072904,
     "end_time": "2022-05-23T07:07:22.573813",
     "exception": false,
     "start_time": "2022-05-23T07:07:22.500909",
     "status": "completed"
    },
    "tags": []
   },
   "source": [
    "**LABEL ENCODING**"
   ]
  },
  {
   "cell_type": "code",
   "execution_count": 8,
   "id": "c877efc8",
   "metadata": {
    "execution": {
     "iopub.execute_input": "2022-05-23T07:07:22.722695Z",
     "iopub.status.busy": "2022-05-23T07:07:22.722395Z",
     "iopub.status.idle": "2022-05-23T07:07:22.774618Z",
     "shell.execute_reply": "2022-05-23T07:07:22.773756Z"
    },
    "papermill": {
     "duration": 0.128502,
     "end_time": "2022-05-23T07:07:22.776934",
     "exception": false,
     "start_time": "2022-05-23T07:07:22.648432",
     "status": "completed"
    },
    "tags": []
   },
   "outputs": [
    {
     "data": {
      "text/html": [
       "<div>\n",
       "<style scoped>\n",
       "    .dataframe tbody tr th:only-of-type {\n",
       "        vertical-align: middle;\n",
       "    }\n",
       "\n",
       "    .dataframe tbody tr th {\n",
       "        vertical-align: top;\n",
       "    }\n",
       "\n",
       "    .dataframe thead th {\n",
       "        text-align: right;\n",
       "    }\n",
       "</style>\n",
       "<table border=\"1\" class=\"dataframe\">\n",
       "  <thead>\n",
       "    <tr style=\"text-align: right;\">\n",
       "      <th></th>\n",
       "      <th>age</th>\n",
       "      <th>job</th>\n",
       "      <th>marital</th>\n",
       "      <th>education</th>\n",
       "      <th>default</th>\n",
       "      <th>housing</th>\n",
       "      <th>loan</th>\n",
       "      <th>contact</th>\n",
       "      <th>month</th>\n",
       "      <th>day_of_week</th>\n",
       "      <th>...</th>\n",
       "      <th>campaign</th>\n",
       "      <th>pdays</th>\n",
       "      <th>previous</th>\n",
       "      <th>poutcome</th>\n",
       "      <th>emp.var.rate</th>\n",
       "      <th>cons.price.idx</th>\n",
       "      <th>cons.conf.idx</th>\n",
       "      <th>euribor3m</th>\n",
       "      <th>nr.employed</th>\n",
       "      <th>y</th>\n",
       "    </tr>\n",
       "  </thead>\n",
       "  <tbody>\n",
       "    <tr>\n",
       "      <th>0</th>\n",
       "      <td>56</td>\n",
       "      <td>housemaid</td>\n",
       "      <td>married</td>\n",
       "      <td>basic.4y</td>\n",
       "      <td>no</td>\n",
       "      <td>no</td>\n",
       "      <td>no</td>\n",
       "      <td>telephone</td>\n",
       "      <td>may</td>\n",
       "      <td>mon</td>\n",
       "      <td>...</td>\n",
       "      <td>1</td>\n",
       "      <td>999</td>\n",
       "      <td>0</td>\n",
       "      <td>nonexistent</td>\n",
       "      <td>1.1</td>\n",
       "      <td>93.994</td>\n",
       "      <td>-36.4</td>\n",
       "      <td>4.857</td>\n",
       "      <td>5191.0</td>\n",
       "      <td>0</td>\n",
       "    </tr>\n",
       "    <tr>\n",
       "      <th>1</th>\n",
       "      <td>57</td>\n",
       "      <td>services</td>\n",
       "      <td>married</td>\n",
       "      <td>high.school</td>\n",
       "      <td>unknown</td>\n",
       "      <td>no</td>\n",
       "      <td>no</td>\n",
       "      <td>telephone</td>\n",
       "      <td>may</td>\n",
       "      <td>mon</td>\n",
       "      <td>...</td>\n",
       "      <td>1</td>\n",
       "      <td>999</td>\n",
       "      <td>0</td>\n",
       "      <td>nonexistent</td>\n",
       "      <td>1.1</td>\n",
       "      <td>93.994</td>\n",
       "      <td>-36.4</td>\n",
       "      <td>4.857</td>\n",
       "      <td>5191.0</td>\n",
       "      <td>0</td>\n",
       "    </tr>\n",
       "    <tr>\n",
       "      <th>2</th>\n",
       "      <td>37</td>\n",
       "      <td>services</td>\n",
       "      <td>married</td>\n",
       "      <td>high.school</td>\n",
       "      <td>no</td>\n",
       "      <td>yes</td>\n",
       "      <td>no</td>\n",
       "      <td>telephone</td>\n",
       "      <td>may</td>\n",
       "      <td>mon</td>\n",
       "      <td>...</td>\n",
       "      <td>1</td>\n",
       "      <td>999</td>\n",
       "      <td>0</td>\n",
       "      <td>nonexistent</td>\n",
       "      <td>1.1</td>\n",
       "      <td>93.994</td>\n",
       "      <td>-36.4</td>\n",
       "      <td>4.857</td>\n",
       "      <td>5191.0</td>\n",
       "      <td>0</td>\n",
       "    </tr>\n",
       "    <tr>\n",
       "      <th>3</th>\n",
       "      <td>40</td>\n",
       "      <td>admin.</td>\n",
       "      <td>married</td>\n",
       "      <td>basic.6y</td>\n",
       "      <td>no</td>\n",
       "      <td>no</td>\n",
       "      <td>no</td>\n",
       "      <td>telephone</td>\n",
       "      <td>may</td>\n",
       "      <td>mon</td>\n",
       "      <td>...</td>\n",
       "      <td>1</td>\n",
       "      <td>999</td>\n",
       "      <td>0</td>\n",
       "      <td>nonexistent</td>\n",
       "      <td>1.1</td>\n",
       "      <td>93.994</td>\n",
       "      <td>-36.4</td>\n",
       "      <td>4.857</td>\n",
       "      <td>5191.0</td>\n",
       "      <td>0</td>\n",
       "    </tr>\n",
       "    <tr>\n",
       "      <th>4</th>\n",
       "      <td>56</td>\n",
       "      <td>services</td>\n",
       "      <td>married</td>\n",
       "      <td>high.school</td>\n",
       "      <td>no</td>\n",
       "      <td>no</td>\n",
       "      <td>yes</td>\n",
       "      <td>telephone</td>\n",
       "      <td>may</td>\n",
       "      <td>mon</td>\n",
       "      <td>...</td>\n",
       "      <td>1</td>\n",
       "      <td>999</td>\n",
       "      <td>0</td>\n",
       "      <td>nonexistent</td>\n",
       "      <td>1.1</td>\n",
       "      <td>93.994</td>\n",
       "      <td>-36.4</td>\n",
       "      <td>4.857</td>\n",
       "      <td>5191.0</td>\n",
       "      <td>0</td>\n",
       "    </tr>\n",
       "  </tbody>\n",
       "</table>\n",
       "<p>5 rows × 21 columns</p>\n",
       "</div>"
      ],
      "text/plain": [
       "   age        job  marital    education  default housing loan    contact  \\\n",
       "0   56  housemaid  married     basic.4y       no      no   no  telephone   \n",
       "1   57   services  married  high.school  unknown      no   no  telephone   \n",
       "2   37   services  married  high.school       no     yes   no  telephone   \n",
       "3   40     admin.  married     basic.6y       no      no   no  telephone   \n",
       "4   56   services  married  high.school       no      no  yes  telephone   \n",
       "\n",
       "  month day_of_week  ...  campaign  pdays  previous     poutcome emp.var.rate  \\\n",
       "0   may         mon  ...         1    999         0  nonexistent          1.1   \n",
       "1   may         mon  ...         1    999         0  nonexistent          1.1   \n",
       "2   may         mon  ...         1    999         0  nonexistent          1.1   \n",
       "3   may         mon  ...         1    999         0  nonexistent          1.1   \n",
       "4   may         mon  ...         1    999         0  nonexistent          1.1   \n",
       "\n",
       "   cons.price.idx  cons.conf.idx  euribor3m  nr.employed  y  \n",
       "0          93.994          -36.4      4.857       5191.0  0  \n",
       "1          93.994          -36.4      4.857       5191.0  0  \n",
       "2          93.994          -36.4      4.857       5191.0  0  \n",
       "3          93.994          -36.4      4.857       5191.0  0  \n",
       "4          93.994          -36.4      4.857       5191.0  0  \n",
       "\n",
       "[5 rows x 21 columns]"
      ]
     },
     "execution_count": 8,
     "metadata": {},
     "output_type": "execute_result"
    }
   ],
   "source": [
    "# Label encoding target variable\n",
    "# converts label/words to numeric form without affecting dimensionality\n",
    "# y- yes=1, no=0\n",
    "df['y'] = df['y'].replace('yes', 1)\n",
    "df['y'] = df['y'].replace('no', 0)\n",
    "df.head()"
   ]
  },
  {
   "cell_type": "code",
   "execution_count": 9,
   "id": "1238aee6",
   "metadata": {
    "execution": {
     "iopub.execute_input": "2022-05-23T07:07:22.929805Z",
     "iopub.status.busy": "2022-05-23T07:07:22.929231Z",
     "iopub.status.idle": "2022-05-23T07:07:22.945666Z",
     "shell.execute_reply": "2022-05-23T07:07:22.944716Z"
    },
    "papermill": {
     "duration": 0.095365,
     "end_time": "2022-05-23T07:07:22.947996",
     "exception": false,
     "start_time": "2022-05-23T07:07:22.852631",
     "status": "completed"
    },
    "tags": []
   },
   "outputs": [],
   "source": [
    "# object datatypes are chosen as categorical datatypes\n",
    "# one hot encoding represents the categorical variables as binary, increasing the dimensionality of the dataset\n",
    "cat_col=[col for col in df.columns.values if df[col].dtype=='object']\n",
    "\n",
    "# sepearting the numerical and categorical feature\n",
    "df_cat=df[cat_col] \n",
    "df_num= df.drop(cat_col,axis=1)"
   ]
  },
  {
   "cell_type": "code",
   "execution_count": 10,
   "id": "bd342755",
   "metadata": {
    "execution": {
     "iopub.execute_input": "2022-05-23T07:07:23.098706Z",
     "iopub.status.busy": "2022-05-23T07:07:23.098411Z",
     "iopub.status.idle": "2022-05-23T07:07:23.168363Z",
     "shell.execute_reply": "2022-05-23T07:07:23.167457Z"
    },
    "papermill": {
     "duration": 0.148658,
     "end_time": "2022-05-23T07:07:23.170996",
     "exception": false,
     "start_time": "2022-05-23T07:07:23.022338",
     "status": "completed"
    },
    "tags": []
   },
   "outputs": [],
   "source": [
    "#dummy encoding the categorical features\n",
    "df_cat_dum= pd.get_dummies(df_cat,drop_first=True)"
   ]
  },
  {
   "cell_type": "code",
   "execution_count": 11,
   "id": "cd78f307",
   "metadata": {
    "execution": {
     "iopub.execute_input": "2022-05-23T07:07:23.321138Z",
     "iopub.status.busy": "2022-05-23T07:07:23.320846Z",
     "iopub.status.idle": "2022-05-23T07:07:23.327847Z",
     "shell.execute_reply": "2022-05-23T07:07:23.326753Z"
    },
    "papermill": {
     "duration": 0.085525,
     "end_time": "2022-05-23T07:07:23.330094",
     "exception": false,
     "start_time": "2022-05-23T07:07:23.244569",
     "status": "completed"
    },
    "tags": []
   },
   "outputs": [],
   "source": [
    "df_features=pd.concat([df_num,df_cat_dum], axis=1)"
   ]
  },
  {
   "cell_type": "code",
   "execution_count": 12,
   "id": "29ebdb06",
   "metadata": {
    "execution": {
     "iopub.execute_input": "2022-05-23T07:07:23.482126Z",
     "iopub.status.busy": "2022-05-23T07:07:23.481197Z",
     "iopub.status.idle": "2022-05-23T07:07:23.502738Z",
     "shell.execute_reply": "2022-05-23T07:07:23.501790Z"
    },
    "papermill": {
     "duration": 0.099511,
     "end_time": "2022-05-23T07:07:23.505163",
     "exception": false,
     "start_time": "2022-05-23T07:07:23.405652",
     "status": "completed"
    },
    "tags": []
   },
   "outputs": [
    {
     "data": {
      "text/html": [
       "<div>\n",
       "<style scoped>\n",
       "    .dataframe tbody tr th:only-of-type {\n",
       "        vertical-align: middle;\n",
       "    }\n",
       "\n",
       "    .dataframe tbody tr th {\n",
       "        vertical-align: top;\n",
       "    }\n",
       "\n",
       "    .dataframe thead th {\n",
       "        text-align: right;\n",
       "    }\n",
       "</style>\n",
       "<table border=\"1\" class=\"dataframe\">\n",
       "  <thead>\n",
       "    <tr style=\"text-align: right;\">\n",
       "      <th></th>\n",
       "      <th>age</th>\n",
       "      <th>duration</th>\n",
       "      <th>campaign</th>\n",
       "      <th>pdays</th>\n",
       "      <th>previous</th>\n",
       "      <th>emp.var.rate</th>\n",
       "      <th>cons.price.idx</th>\n",
       "      <th>cons.conf.idx</th>\n",
       "      <th>euribor3m</th>\n",
       "      <th>nr.employed</th>\n",
       "      <th>...</th>\n",
       "      <th>month_may</th>\n",
       "      <th>month_nov</th>\n",
       "      <th>month_oct</th>\n",
       "      <th>month_sep</th>\n",
       "      <th>day_of_week_mon</th>\n",
       "      <th>day_of_week_thu</th>\n",
       "      <th>day_of_week_tue</th>\n",
       "      <th>day_of_week_wed</th>\n",
       "      <th>poutcome_nonexistent</th>\n",
       "      <th>poutcome_success</th>\n",
       "    </tr>\n",
       "  </thead>\n",
       "  <tbody>\n",
       "    <tr>\n",
       "      <th>0</th>\n",
       "      <td>56</td>\n",
       "      <td>261</td>\n",
       "      <td>1</td>\n",
       "      <td>999</td>\n",
       "      <td>0</td>\n",
       "      <td>1.1</td>\n",
       "      <td>93.994</td>\n",
       "      <td>-36.4</td>\n",
       "      <td>4.857</td>\n",
       "      <td>5191.0</td>\n",
       "      <td>...</td>\n",
       "      <td>1</td>\n",
       "      <td>0</td>\n",
       "      <td>0</td>\n",
       "      <td>0</td>\n",
       "      <td>1</td>\n",
       "      <td>0</td>\n",
       "      <td>0</td>\n",
       "      <td>0</td>\n",
       "      <td>1</td>\n",
       "      <td>0</td>\n",
       "    </tr>\n",
       "    <tr>\n",
       "      <th>1</th>\n",
       "      <td>57</td>\n",
       "      <td>149</td>\n",
       "      <td>1</td>\n",
       "      <td>999</td>\n",
       "      <td>0</td>\n",
       "      <td>1.1</td>\n",
       "      <td>93.994</td>\n",
       "      <td>-36.4</td>\n",
       "      <td>4.857</td>\n",
       "      <td>5191.0</td>\n",
       "      <td>...</td>\n",
       "      <td>1</td>\n",
       "      <td>0</td>\n",
       "      <td>0</td>\n",
       "      <td>0</td>\n",
       "      <td>1</td>\n",
       "      <td>0</td>\n",
       "      <td>0</td>\n",
       "      <td>0</td>\n",
       "      <td>1</td>\n",
       "      <td>0</td>\n",
       "    </tr>\n",
       "    <tr>\n",
       "      <th>2</th>\n",
       "      <td>37</td>\n",
       "      <td>226</td>\n",
       "      <td>1</td>\n",
       "      <td>999</td>\n",
       "      <td>0</td>\n",
       "      <td>1.1</td>\n",
       "      <td>93.994</td>\n",
       "      <td>-36.4</td>\n",
       "      <td>4.857</td>\n",
       "      <td>5191.0</td>\n",
       "      <td>...</td>\n",
       "      <td>1</td>\n",
       "      <td>0</td>\n",
       "      <td>0</td>\n",
       "      <td>0</td>\n",
       "      <td>1</td>\n",
       "      <td>0</td>\n",
       "      <td>0</td>\n",
       "      <td>0</td>\n",
       "      <td>1</td>\n",
       "      <td>0</td>\n",
       "    </tr>\n",
       "    <tr>\n",
       "      <th>3</th>\n",
       "      <td>40</td>\n",
       "      <td>151</td>\n",
       "      <td>1</td>\n",
       "      <td>999</td>\n",
       "      <td>0</td>\n",
       "      <td>1.1</td>\n",
       "      <td>93.994</td>\n",
       "      <td>-36.4</td>\n",
       "      <td>4.857</td>\n",
       "      <td>5191.0</td>\n",
       "      <td>...</td>\n",
       "      <td>1</td>\n",
       "      <td>0</td>\n",
       "      <td>0</td>\n",
       "      <td>0</td>\n",
       "      <td>1</td>\n",
       "      <td>0</td>\n",
       "      <td>0</td>\n",
       "      <td>0</td>\n",
       "      <td>1</td>\n",
       "      <td>0</td>\n",
       "    </tr>\n",
       "    <tr>\n",
       "      <th>4</th>\n",
       "      <td>56</td>\n",
       "      <td>307</td>\n",
       "      <td>1</td>\n",
       "      <td>999</td>\n",
       "      <td>0</td>\n",
       "      <td>1.1</td>\n",
       "      <td>93.994</td>\n",
       "      <td>-36.4</td>\n",
       "      <td>4.857</td>\n",
       "      <td>5191.0</td>\n",
       "      <td>...</td>\n",
       "      <td>1</td>\n",
       "      <td>0</td>\n",
       "      <td>0</td>\n",
       "      <td>0</td>\n",
       "      <td>1</td>\n",
       "      <td>0</td>\n",
       "      <td>0</td>\n",
       "      <td>0</td>\n",
       "      <td>1</td>\n",
       "      <td>0</td>\n",
       "    </tr>\n",
       "  </tbody>\n",
       "</table>\n",
       "<p>5 rows × 54 columns</p>\n",
       "</div>"
      ],
      "text/plain": [
       "   age  duration  campaign  pdays  previous  emp.var.rate  cons.price.idx  \\\n",
       "0   56       261         1    999         0           1.1          93.994   \n",
       "1   57       149         1    999         0           1.1          93.994   \n",
       "2   37       226         1    999         0           1.1          93.994   \n",
       "3   40       151         1    999         0           1.1          93.994   \n",
       "4   56       307         1    999         0           1.1          93.994   \n",
       "\n",
       "   cons.conf.idx  euribor3m  nr.employed  ...  month_may  month_nov  \\\n",
       "0          -36.4      4.857       5191.0  ...          1          0   \n",
       "1          -36.4      4.857       5191.0  ...          1          0   \n",
       "2          -36.4      4.857       5191.0  ...          1          0   \n",
       "3          -36.4      4.857       5191.0  ...          1          0   \n",
       "4          -36.4      4.857       5191.0  ...          1          0   \n",
       "\n",
       "   month_oct  month_sep  day_of_week_mon  day_of_week_thu  day_of_week_tue  \\\n",
       "0          0          0                1                0                0   \n",
       "1          0          0                1                0                0   \n",
       "2          0          0                1                0                0   \n",
       "3          0          0                1                0                0   \n",
       "4          0          0                1                0                0   \n",
       "\n",
       "   day_of_week_wed  poutcome_nonexistent  poutcome_success  \n",
       "0                0                     1                 0  \n",
       "1                0                     1                 0  \n",
       "2                0                     1                 0  \n",
       "3                0                     1                 0  \n",
       "4                0                     1                 0  \n",
       "\n",
       "[5 rows x 54 columns]"
      ]
     },
     "execution_count": 12,
     "metadata": {},
     "output_type": "execute_result"
    }
   ],
   "source": [
    "df_features.head()"
   ]
  },
  {
   "cell_type": "code",
   "execution_count": 13,
   "id": "040159bd",
   "metadata": {
    "execution": {
     "iopub.execute_input": "2022-05-23T07:07:23.659360Z",
     "iopub.status.busy": "2022-05-23T07:07:23.658771Z",
     "iopub.status.idle": "2022-05-23T07:07:23.812982Z",
     "shell.execute_reply": "2022-05-23T07:07:23.811878Z"
    },
    "papermill": {
     "duration": 0.234493,
     "end_time": "2022-05-23T07:07:23.816392",
     "exception": false,
     "start_time": "2022-05-23T07:07:23.581899",
     "status": "completed"
    },
    "tags": []
   },
   "outputs": [
    {
     "name": "stdout",
     "output_type": "stream",
     "text": [
      "<class 'pandas.core.frame.DataFrame'>\n",
      "RangeIndex: 41188 entries, 0 to 41187\n",
      "Data columns (total 54 columns):\n",
      " #   Column                         Non-Null Count  Dtype  \n",
      "---  ------                         --------------  -----  \n",
      " 0   age                            41188 non-null  int64  \n",
      " 1   duration                       41188 non-null  int64  \n",
      " 2   campaign                       41188 non-null  int64  \n",
      " 3   pdays                          41188 non-null  int64  \n",
      " 4   previous                       41188 non-null  int64  \n",
      " 5   emp.var.rate                   41188 non-null  float64\n",
      " 6   cons.price.idx                 41188 non-null  float64\n",
      " 7   cons.conf.idx                  41188 non-null  float64\n",
      " 8   euribor3m                      41188 non-null  float64\n",
      " 9   nr.employed                    41188 non-null  float64\n",
      " 10  y                              41188 non-null  int64  \n",
      " 11  job_blue-collar                41188 non-null  uint8  \n",
      " 12  job_entrepreneur               41188 non-null  uint8  \n",
      " 13  job_housemaid                  41188 non-null  uint8  \n",
      " 14  job_management                 41188 non-null  uint8  \n",
      " 15  job_retired                    41188 non-null  uint8  \n",
      " 16  job_self-employed              41188 non-null  uint8  \n",
      " 17  job_services                   41188 non-null  uint8  \n",
      " 18  job_student                    41188 non-null  uint8  \n",
      " 19  job_technician                 41188 non-null  uint8  \n",
      " 20  job_unemployed                 41188 non-null  uint8  \n",
      " 21  job_unknown                    41188 non-null  uint8  \n",
      " 22  marital_married                41188 non-null  uint8  \n",
      " 23  marital_single                 41188 non-null  uint8  \n",
      " 24  marital_unknown                41188 non-null  uint8  \n",
      " 25  education_basic.6y             41188 non-null  uint8  \n",
      " 26  education_basic.9y             41188 non-null  uint8  \n",
      " 27  education_high.school          41188 non-null  uint8  \n",
      " 28  education_illiterate           41188 non-null  uint8  \n",
      " 29  education_professional.course  41188 non-null  uint8  \n",
      " 30  education_university.degree    41188 non-null  uint8  \n",
      " 31  education_unknown              41188 non-null  uint8  \n",
      " 32  default_unknown                41188 non-null  uint8  \n",
      " 33  default_yes                    41188 non-null  uint8  \n",
      " 34  housing_unknown                41188 non-null  uint8  \n",
      " 35  housing_yes                    41188 non-null  uint8  \n",
      " 36  loan_unknown                   41188 non-null  uint8  \n",
      " 37  loan_yes                       41188 non-null  uint8  \n",
      " 38  contact_telephone              41188 non-null  uint8  \n",
      " 39  month_aug                      41188 non-null  uint8  \n",
      " 40  month_dec                      41188 non-null  uint8  \n",
      " 41  month_jul                      41188 non-null  uint8  \n",
      " 42  month_jun                      41188 non-null  uint8  \n",
      " 43  month_mar                      41188 non-null  uint8  \n",
      " 44  month_may                      41188 non-null  uint8  \n",
      " 45  month_nov                      41188 non-null  uint8  \n",
      " 46  month_oct                      41188 non-null  uint8  \n",
      " 47  month_sep                      41188 non-null  uint8  \n",
      " 48  day_of_week_mon                41188 non-null  uint8  \n",
      " 49  day_of_week_thu                41188 non-null  uint8  \n",
      " 50  day_of_week_tue                41188 non-null  uint8  \n",
      " 51  day_of_week_wed                41188 non-null  uint8  \n",
      " 52  poutcome_nonexistent           41188 non-null  uint8  \n",
      " 53  poutcome_success               41188 non-null  uint8  \n",
      "dtypes: float64(5), int64(6), uint8(43)\n",
      "memory usage: 5.1 MB\n"
     ]
    }
   ],
   "source": [
    "df_features.info()"
   ]
  },
  {
   "cell_type": "markdown",
   "id": "2402960f",
   "metadata": {
    "papermill": {
     "duration": 0.074856,
     "end_time": "2022-05-23T07:07:23.967052",
     "exception": false,
     "start_time": "2022-05-23T07:07:23.892196",
     "status": "completed"
    },
    "tags": []
   },
   "source": [
    "**FEATURE SELECTION USING RANDOM CLASSIFIER**"
   ]
  },
  {
   "cell_type": "code",
   "execution_count": 14,
   "id": "d9f704b3",
   "metadata": {
    "execution": {
     "iopub.execute_input": "2022-05-23T07:07:24.121197Z",
     "iopub.status.busy": "2022-05-23T07:07:24.120714Z",
     "iopub.status.idle": "2022-05-23T07:07:24.368252Z",
     "shell.execute_reply": "2022-05-23T07:07:24.367153Z"
    },
    "papermill": {
     "duration": 0.327071,
     "end_time": "2022-05-23T07:07:24.370843",
     "exception": false,
     "start_time": "2022-05-23T07:07:24.043772",
     "status": "completed"
    },
    "tags": []
   },
   "outputs": [],
   "source": [
    "# splitting the data into 70% training data and 30% test data\n",
    "\n",
    "from sklearn.model_selection import train_test_split\n",
    "\n",
    "X = df_features.drop(['y'], axis=1)\n",
    "y = df_features['y']\n",
    "\n",
    "trainx, testx, trainy, testy = train_test_split(X, y, test_size=0.3, random_state=0)"
   ]
  },
  {
   "cell_type": "code",
   "execution_count": 15,
   "id": "db0ecc82",
   "metadata": {
    "execution": {
     "iopub.execute_input": "2022-05-23T07:07:24.523369Z",
     "iopub.status.busy": "2022-05-23T07:07:24.523069Z",
     "iopub.status.idle": "2022-05-23T07:09:28.854895Z",
     "shell.execute_reply": "2022-05-23T07:09:28.854232Z"
    },
    "papermill": {
     "duration": 124.485131,
     "end_time": "2022-05-23T07:09:28.932492",
     "exception": false,
     "start_time": "2022-05-23T07:07:24.447361",
     "status": "completed"
    },
    "tags": []
   },
   "outputs": [
    {
     "data": {
      "text/plain": [
       "RandomForestClassifier(n_estimators=10000, n_jobs=-1, random_state=0)"
      ]
     },
     "execution_count": 15,
     "metadata": {},
     "output_type": "execute_result"
    }
   ],
   "source": [
    "# Use randomforest classifier\n",
    "\n",
    "from sklearn.ensemble import RandomForestClassifier\n",
    "\n",
    "rfc = RandomForestClassifier(n_estimators=10000, random_state=0, n_jobs=-1)\n",
    "\n",
    "# Train the classifier\n",
    "rfc.fit(trainx, trainy)"
   ]
  },
  {
   "cell_type": "code",
   "execution_count": 16,
   "id": "583b554f",
   "metadata": {
    "execution": {
     "iopub.execute_input": "2022-05-23T07:09:29.085825Z",
     "iopub.status.busy": "2022-05-23T07:09:29.085317Z",
     "iopub.status.idle": "2022-05-23T07:09:31.212778Z",
     "shell.execute_reply": "2022-05-23T07:09:31.211800Z"
    },
    "papermill": {
     "duration": 2.206584,
     "end_time": "2022-05-23T07:09:31.215422",
     "exception": false,
     "start_time": "2022-05-23T07:09:29.008838",
     "status": "completed"
    },
    "tags": []
   },
   "outputs": [],
   "source": [
    "# Print the name and gini importance of each feature\n",
    "feat_labels = X.columns.values\n",
    "\n",
    "feature_importance = []\n",
    "for feature in zip(feat_labels, rfc.feature_importances_):\n",
    "   \n",
    "    feature_importance.append(feature)"
   ]
  },
  {
   "cell_type": "code",
   "execution_count": 17,
   "id": "41d0957c",
   "metadata": {
    "execution": {
     "iopub.execute_input": "2022-05-23T07:09:31.369950Z",
     "iopub.status.busy": "2022-05-23T07:09:31.369681Z",
     "iopub.status.idle": "2022-05-23T07:09:31.378497Z",
     "shell.execute_reply": "2022-05-23T07:09:31.377538Z"
    },
    "papermill": {
     "duration": 0.08844,
     "end_time": "2022-05-23T07:09:31.380328",
     "exception": false,
     "start_time": "2022-05-23T07:09:31.291888",
     "status": "completed"
    },
    "scrolled": true,
    "tags": []
   },
   "outputs": [
    {
     "data": {
      "text/plain": [
       "[('age', 0.08618566386398764),\n",
       " ('duration', 0.29015602499077386),\n",
       " ('campaign', 0.04178199369579807),\n",
       " ('pdays', 0.03353857431900278),\n",
       " ('previous', 0.013738961767318078),\n",
       " ('emp.var.rate', 0.02341289011754231),\n",
       " ('cons.price.idx', 0.023455586654047598),\n",
       " ('cons.conf.idx', 0.026641943503223915),\n",
       " ('euribor3m', 0.10042013017159576),\n",
       " ('nr.employed', 0.052001436527475416),\n",
       " ('job_blue-collar', 0.00912955901482597),\n",
       " ('job_entrepreneur', 0.00408065698430441),\n",
       " ('job_housemaid', 0.0034507775674576468),\n",
       " ('job_management', 0.007619194267427778),\n",
       " ('job_retired', 0.006231741559246316),\n",
       " ('job_self-employed', 0.004297209231449068),\n",
       " ('job_services', 0.007059908897013911),\n",
       " ('job_student', 0.004545515313735655),\n",
       " ('job_technician', 0.011362997000859581),\n",
       " ('job_unemployed', 0.004234164752530876),\n",
       " ('job_unknown', 0.0017352275969970802),\n",
       " ('marital_married', 0.013703674878066122),\n",
       " ('marital_single', 0.011980118740034),\n",
       " ('marital_unknown', 0.0004681802865129859),\n",
       " ('education_basic.6y', 0.004533082261449234),\n",
       " ('education_basic.9y', 0.00841360183841855),\n",
       " ('education_high.school', 0.011911672920323208),\n",
       " ('education_illiterate', 0.0001954725043764719),\n",
       " ('education_professional.course', 0.008862687930887311),\n",
       " ('education_university.degree', 0.013145967023621927),\n",
       " ('education_unknown', 0.005204166737204258),\n",
       " ('default_unknown', 0.008828277503150218),\n",
       " ('default_yes', 7.4083525258815036e-09),\n",
       " ('housing_unknown', 0.002209251379755515),\n",
       " ('housing_yes', 0.019947814943109477),\n",
       " ('loan_unknown', 0.0022258111044771538),\n",
       " ('loan_yes', 0.013294383844967334),\n",
       " ('contact_telephone', 0.010349589587515364),\n",
       " ('month_aug', 0.002542882713933205),\n",
       " ('month_dec', 0.00089080425655123),\n",
       " ('month_jul', 0.0026645019351060383),\n",
       " ('month_jun', 0.0029011522955605406),\n",
       " ('month_mar', 0.004887583078879729),\n",
       " ('month_may', 0.005116610052046957),\n",
       " ('month_nov', 0.0022956282126332097),\n",
       " ('month_oct', 0.005765904989179848),\n",
       " ('month_sep', 0.002176686695096346),\n",
       " ('day_of_week_mon', 0.01204060407787753),\n",
       " ('day_of_week_thu', 0.01225680296198673),\n",
       " ('day_of_week_tue', 0.01190380175245775),\n",
       " ('day_of_week_wed', 0.01185356865483465),\n",
       " ('poutcome_nonexistent', 0.008630332656024656),\n",
       " ('poutcome_success', 0.02371921697899626)]"
      ]
     },
     "execution_count": 17,
     "metadata": {},
     "output_type": "execute_result"
    }
   ],
   "source": [
    "feature_importance"
   ]
  },
  {
   "cell_type": "code",
   "execution_count": 18,
   "id": "5f28e3d3",
   "metadata": {
    "execution": {
     "iopub.execute_input": "2022-05-23T07:09:31.535449Z",
     "iopub.status.busy": "2022-05-23T07:09:31.535151Z",
     "iopub.status.idle": "2022-05-23T07:11:37.222403Z",
     "shell.execute_reply": "2022-05-23T07:11:37.221470Z"
    },
    "papermill": {
     "duration": 125.84371,
     "end_time": "2022-05-23T07:11:37.300967",
     "exception": false,
     "start_time": "2022-05-23T07:09:31.457257",
     "status": "completed"
    },
    "tags": []
   },
   "outputs": [
    {
     "data": {
      "text/plain": [
       "SelectFromModel(estimator=RandomForestClassifier(n_estimators=10000, n_jobs=-1,\n",
       "                                                 random_state=0),\n",
       "                threshold=0.01)"
      ]
     },
     "execution_count": 18,
     "metadata": {},
     "output_type": "execute_result"
    }
   ],
   "source": [
    "# Create a selector object that will use the random forest classifier to identify\n",
    "# features that have an importance of more than 0.01\n",
    "from sklearn.feature_selection import SelectFromModel\n",
    "\n",
    "sfm = SelectFromModel(rfc, threshold=0.01)\n",
    "\n",
    "# Train the selector\n",
    "sfm.fit(trainx, trainy)"
   ]
  },
  {
   "cell_type": "code",
   "execution_count": 19,
   "id": "4b42df6a",
   "metadata": {
    "execution": {
     "iopub.execute_input": "2022-05-23T07:11:37.454251Z",
     "iopub.status.busy": "2022-05-23T07:11:37.453939Z",
     "iopub.status.idle": "2022-05-23T07:11:41.797730Z",
     "shell.execute_reply": "2022-05-23T07:11:41.796982Z"
    },
    "papermill": {
     "duration": 4.423195,
     "end_time": "2022-05-23T07:11:41.799921",
     "exception": false,
     "start_time": "2022-05-23T07:11:37.376726",
     "status": "completed"
    },
    "tags": []
   },
   "outputs": [],
   "source": [
    "# Print the names of the most important features\n",
    "selected_features = []\n",
    "for feature_list_index in sfm.get_support(indices=True):\n",
    "    selected_features.append(feat_labels[feature_list_index])"
   ]
  },
  {
   "cell_type": "code",
   "execution_count": 20,
   "id": "def2264b",
   "metadata": {
    "execution": {
     "iopub.execute_input": "2022-05-23T07:11:41.957084Z",
     "iopub.status.busy": "2022-05-23T07:11:41.956604Z",
     "iopub.status.idle": "2022-05-23T07:11:41.961469Z",
     "shell.execute_reply": "2022-05-23T07:11:41.960880Z"
    },
    "papermill": {
     "duration": 0.084454,
     "end_time": "2022-05-23T07:11:41.963215",
     "exception": false,
     "start_time": "2022-05-23T07:11:41.878761",
     "status": "completed"
    },
    "tags": []
   },
   "outputs": [
    {
     "data": {
      "text/plain": [
       "['age',\n",
       " 'duration',\n",
       " 'campaign',\n",
       " 'pdays',\n",
       " 'previous',\n",
       " 'emp.var.rate',\n",
       " 'cons.price.idx',\n",
       " 'cons.conf.idx',\n",
       " 'euribor3m',\n",
       " 'nr.employed',\n",
       " 'job_technician',\n",
       " 'marital_married',\n",
       " 'marital_single',\n",
       " 'education_high.school',\n",
       " 'education_university.degree',\n",
       " 'housing_yes',\n",
       " 'loan_yes',\n",
       " 'contact_telephone',\n",
       " 'day_of_week_mon',\n",
       " 'day_of_week_thu',\n",
       " 'day_of_week_tue',\n",
       " 'day_of_week_wed',\n",
       " 'poutcome_success']"
      ]
     },
     "execution_count": 20,
     "metadata": {},
     "output_type": "execute_result"
    }
   ],
   "source": [
    "selected_features"
   ]
  },
  {
   "cell_type": "markdown",
   "id": "ce6e8986",
   "metadata": {
    "papermill": {
     "duration": 0.075771,
     "end_time": "2022-05-23T07:11:42.115849",
     "exception": false,
     "start_time": "2022-05-23T07:11:42.040078",
     "status": "completed"
    },
    "tags": []
   },
   "source": [
    "23 features have been selected using RandomForestClassifier for further modelling"
   ]
  },
  {
   "cell_type": "code",
   "execution_count": 21,
   "id": "af110263",
   "metadata": {
    "execution": {
     "iopub.execute_input": "2022-05-23T07:11:42.269652Z",
     "iopub.status.busy": "2022-05-23T07:11:42.269172Z",
     "iopub.status.idle": "2022-05-23T07:11:42.291301Z",
     "shell.execute_reply": "2022-05-23T07:11:42.290727Z"
    },
    "papermill": {
     "duration": 0.101324,
     "end_time": "2022-05-23T07:11:42.293139",
     "exception": false,
     "start_time": "2022-05-23T07:11:42.191815",
     "status": "completed"
    },
    "tags": []
   },
   "outputs": [
    {
     "data": {
      "text/html": [
       "<div>\n",
       "<style scoped>\n",
       "    .dataframe tbody tr th:only-of-type {\n",
       "        vertical-align: middle;\n",
       "    }\n",
       "\n",
       "    .dataframe tbody tr th {\n",
       "        vertical-align: top;\n",
       "    }\n",
       "\n",
       "    .dataframe thead th {\n",
       "        text-align: right;\n",
       "    }\n",
       "</style>\n",
       "<table border=\"1\" class=\"dataframe\">\n",
       "  <thead>\n",
       "    <tr style=\"text-align: right;\">\n",
       "      <th></th>\n",
       "      <th>age</th>\n",
       "      <th>duration</th>\n",
       "      <th>campaign</th>\n",
       "      <th>pdays</th>\n",
       "      <th>previous</th>\n",
       "      <th>emp.var.rate</th>\n",
       "      <th>cons.price.idx</th>\n",
       "      <th>cons.conf.idx</th>\n",
       "      <th>euribor3m</th>\n",
       "      <th>nr.employed</th>\n",
       "      <th>...</th>\n",
       "      <th>education_high.school</th>\n",
       "      <th>education_university.degree</th>\n",
       "      <th>housing_yes</th>\n",
       "      <th>loan_yes</th>\n",
       "      <th>contact_telephone</th>\n",
       "      <th>day_of_week_mon</th>\n",
       "      <th>day_of_week_thu</th>\n",
       "      <th>day_of_week_tue</th>\n",
       "      <th>day_of_week_wed</th>\n",
       "      <th>poutcome_success</th>\n",
       "    </tr>\n",
       "  </thead>\n",
       "  <tbody>\n",
       "    <tr>\n",
       "      <th>0</th>\n",
       "      <td>56</td>\n",
       "      <td>261</td>\n",
       "      <td>1</td>\n",
       "      <td>999</td>\n",
       "      <td>0</td>\n",
       "      <td>1.1</td>\n",
       "      <td>93.994</td>\n",
       "      <td>-36.4</td>\n",
       "      <td>4.857</td>\n",
       "      <td>5191.0</td>\n",
       "      <td>...</td>\n",
       "      <td>0</td>\n",
       "      <td>0</td>\n",
       "      <td>0</td>\n",
       "      <td>0</td>\n",
       "      <td>1</td>\n",
       "      <td>1</td>\n",
       "      <td>0</td>\n",
       "      <td>0</td>\n",
       "      <td>0</td>\n",
       "      <td>0</td>\n",
       "    </tr>\n",
       "    <tr>\n",
       "      <th>1</th>\n",
       "      <td>57</td>\n",
       "      <td>149</td>\n",
       "      <td>1</td>\n",
       "      <td>999</td>\n",
       "      <td>0</td>\n",
       "      <td>1.1</td>\n",
       "      <td>93.994</td>\n",
       "      <td>-36.4</td>\n",
       "      <td>4.857</td>\n",
       "      <td>5191.0</td>\n",
       "      <td>...</td>\n",
       "      <td>1</td>\n",
       "      <td>0</td>\n",
       "      <td>0</td>\n",
       "      <td>0</td>\n",
       "      <td>1</td>\n",
       "      <td>1</td>\n",
       "      <td>0</td>\n",
       "      <td>0</td>\n",
       "      <td>0</td>\n",
       "      <td>0</td>\n",
       "    </tr>\n",
       "    <tr>\n",
       "      <th>2</th>\n",
       "      <td>37</td>\n",
       "      <td>226</td>\n",
       "      <td>1</td>\n",
       "      <td>999</td>\n",
       "      <td>0</td>\n",
       "      <td>1.1</td>\n",
       "      <td>93.994</td>\n",
       "      <td>-36.4</td>\n",
       "      <td>4.857</td>\n",
       "      <td>5191.0</td>\n",
       "      <td>...</td>\n",
       "      <td>1</td>\n",
       "      <td>0</td>\n",
       "      <td>1</td>\n",
       "      <td>0</td>\n",
       "      <td>1</td>\n",
       "      <td>1</td>\n",
       "      <td>0</td>\n",
       "      <td>0</td>\n",
       "      <td>0</td>\n",
       "      <td>0</td>\n",
       "    </tr>\n",
       "    <tr>\n",
       "      <th>3</th>\n",
       "      <td>40</td>\n",
       "      <td>151</td>\n",
       "      <td>1</td>\n",
       "      <td>999</td>\n",
       "      <td>0</td>\n",
       "      <td>1.1</td>\n",
       "      <td>93.994</td>\n",
       "      <td>-36.4</td>\n",
       "      <td>4.857</td>\n",
       "      <td>5191.0</td>\n",
       "      <td>...</td>\n",
       "      <td>0</td>\n",
       "      <td>0</td>\n",
       "      <td>0</td>\n",
       "      <td>0</td>\n",
       "      <td>1</td>\n",
       "      <td>1</td>\n",
       "      <td>0</td>\n",
       "      <td>0</td>\n",
       "      <td>0</td>\n",
       "      <td>0</td>\n",
       "    </tr>\n",
       "    <tr>\n",
       "      <th>4</th>\n",
       "      <td>56</td>\n",
       "      <td>307</td>\n",
       "      <td>1</td>\n",
       "      <td>999</td>\n",
       "      <td>0</td>\n",
       "      <td>1.1</td>\n",
       "      <td>93.994</td>\n",
       "      <td>-36.4</td>\n",
       "      <td>4.857</td>\n",
       "      <td>5191.0</td>\n",
       "      <td>...</td>\n",
       "      <td>1</td>\n",
       "      <td>0</td>\n",
       "      <td>0</td>\n",
       "      <td>1</td>\n",
       "      <td>1</td>\n",
       "      <td>1</td>\n",
       "      <td>0</td>\n",
       "      <td>0</td>\n",
       "      <td>0</td>\n",
       "      <td>0</td>\n",
       "    </tr>\n",
       "  </tbody>\n",
       "</table>\n",
       "<p>5 rows × 23 columns</p>\n",
       "</div>"
      ],
      "text/plain": [
       "   age  duration  campaign  pdays  previous  emp.var.rate  cons.price.idx  \\\n",
       "0   56       261         1    999         0           1.1          93.994   \n",
       "1   57       149         1    999         0           1.1          93.994   \n",
       "2   37       226         1    999         0           1.1          93.994   \n",
       "3   40       151         1    999         0           1.1          93.994   \n",
       "4   56       307         1    999         0           1.1          93.994   \n",
       "\n",
       "   cons.conf.idx  euribor3m  nr.employed  ...  education_high.school  \\\n",
       "0          -36.4      4.857       5191.0  ...                      0   \n",
       "1          -36.4      4.857       5191.0  ...                      1   \n",
       "2          -36.4      4.857       5191.0  ...                      1   \n",
       "3          -36.4      4.857       5191.0  ...                      0   \n",
       "4          -36.4      4.857       5191.0  ...                      1   \n",
       "\n",
       "   education_university.degree  housing_yes  loan_yes  contact_telephone  \\\n",
       "0                            0            0         0                  1   \n",
       "1                            0            0         0                  1   \n",
       "2                            0            1         0                  1   \n",
       "3                            0            0         0                  1   \n",
       "4                            0            0         1                  1   \n",
       "\n",
       "   day_of_week_mon  day_of_week_thu  day_of_week_tue  day_of_week_wed  \\\n",
       "0                1                0                0                0   \n",
       "1                1                0                0                0   \n",
       "2                1                0                0                0   \n",
       "3                1                0                0                0   \n",
       "4                1                0                0                0   \n",
       "\n",
       "   poutcome_success  \n",
       "0                 0  \n",
       "1                 0  \n",
       "2                 0  \n",
       "3                 0  \n",
       "4                 0  \n",
       "\n",
       "[5 rows x 23 columns]"
      ]
     },
     "execution_count": 21,
     "metadata": {},
     "output_type": "execute_result"
    }
   ],
   "source": [
    "data_selected = df_features[selected_features]\n",
    "data_selected.head()"
   ]
  },
  {
   "cell_type": "code",
   "execution_count": 22,
   "id": "b9d7d9f2",
   "metadata": {
    "execution": {
     "iopub.execute_input": "2022-05-23T07:11:42.450056Z",
     "iopub.status.busy": "2022-05-23T07:11:42.449511Z",
     "iopub.status.idle": "2022-05-23T07:11:42.463816Z",
     "shell.execute_reply": "2022-05-23T07:11:42.463045Z"
    },
    "papermill": {
     "duration": 0.096871,
     "end_time": "2022-05-23T07:11:42.466905",
     "exception": false,
     "start_time": "2022-05-23T07:11:42.370034",
     "status": "completed"
    },
    "tags": []
   },
   "outputs": [
    {
     "name": "stdout",
     "output_type": "stream",
     "text": [
      "<class 'pandas.core.frame.DataFrame'>\n",
      "RangeIndex: 41188 entries, 0 to 41187\n",
      "Data columns (total 23 columns):\n",
      " #   Column                       Non-Null Count  Dtype  \n",
      "---  ------                       --------------  -----  \n",
      " 0   age                          41188 non-null  int64  \n",
      " 1   duration                     41188 non-null  int64  \n",
      " 2   campaign                     41188 non-null  int64  \n",
      " 3   pdays                        41188 non-null  int64  \n",
      " 4   previous                     41188 non-null  int64  \n",
      " 5   emp.var.rate                 41188 non-null  float64\n",
      " 6   cons.price.idx               41188 non-null  float64\n",
      " 7   cons.conf.idx                41188 non-null  float64\n",
      " 8   euribor3m                    41188 non-null  float64\n",
      " 9   nr.employed                  41188 non-null  float64\n",
      " 10  job_technician               41188 non-null  uint8  \n",
      " 11  marital_married              41188 non-null  uint8  \n",
      " 12  marital_single               41188 non-null  uint8  \n",
      " 13  education_high.school        41188 non-null  uint8  \n",
      " 14  education_university.degree  41188 non-null  uint8  \n",
      " 15  housing_yes                  41188 non-null  uint8  \n",
      " 16  loan_yes                     41188 non-null  uint8  \n",
      " 17  contact_telephone            41188 non-null  uint8  \n",
      " 18  day_of_week_mon              41188 non-null  uint8  \n",
      " 19  day_of_week_thu              41188 non-null  uint8  \n",
      " 20  day_of_week_tue              41188 non-null  uint8  \n",
      " 21  day_of_week_wed              41188 non-null  uint8  \n",
      " 22  poutcome_success             41188 non-null  uint8  \n",
      "dtypes: float64(5), int64(5), uint8(13)\n",
      "memory usage: 3.7 MB\n"
     ]
    }
   ],
   "source": [
    "data_selected.info()"
   ]
  },
  {
   "cell_type": "markdown",
   "id": "549aafb4",
   "metadata": {
    "papermill": {
     "duration": 0.077186,
     "end_time": "2022-05-23T07:11:42.623109",
     "exception": false,
     "start_time": "2022-05-23T07:11:42.545923",
     "status": "completed"
    },
    "tags": []
   },
   "source": [
    "**STANDARDIZING THE DATA USING MINMAXSCALER**"
   ]
  },
  {
   "cell_type": "markdown",
   "id": "1401449c",
   "metadata": {
    "papermill": {
     "duration": 0.07676,
     "end_time": "2022-05-23T07:11:42.776976",
     "exception": false,
     "start_time": "2022-05-23T07:11:42.700216",
     "status": "completed"
    },
    "tags": []
   },
   "source": [
    "Since the features have different ranges, it needs to be scaled for building a better model. MinMaxScaler of skcit library scales and translates each feature individually such that it is in the given range on the training set, e.g. between zero and one. Default range is zero and one,which is being used below."
   ]
  },
  {
   "cell_type": "code",
   "execution_count": 23,
   "id": "85acf8bc",
   "metadata": {
    "execution": {
     "iopub.execute_input": "2022-05-23T07:11:42.936088Z",
     "iopub.status.busy": "2022-05-23T07:11:42.935612Z",
     "iopub.status.idle": "2022-05-23T07:11:42.962354Z",
     "shell.execute_reply": "2022-05-23T07:11:42.961503Z"
    },
    "papermill": {
     "duration": 0.108571,
     "end_time": "2022-05-23T07:11:42.964587",
     "exception": false,
     "start_time": "2022-05-23T07:11:42.856016",
     "status": "completed"
    },
    "tags": []
   },
   "outputs": [],
   "source": [
    "from sklearn.preprocessing import MinMaxScaler\n",
    "scaler = MinMaxScaler()\n",
    "scaler.fit(data_selected)\n",
    "data_standardised = scaler.fit_transform(data_selected)"
   ]
  },
  {
   "cell_type": "code",
   "execution_count": 24,
   "id": "beab19b4",
   "metadata": {
    "execution": {
     "iopub.execute_input": "2022-05-23T07:11:43.122817Z",
     "iopub.status.busy": "2022-05-23T07:11:43.122391Z",
     "iopub.status.idle": "2022-05-23T07:11:43.153097Z",
     "shell.execute_reply": "2022-05-23T07:11:43.152462Z"
    },
    "papermill": {
     "duration": 0.112006,
     "end_time": "2022-05-23T07:11:43.155047",
     "exception": false,
     "start_time": "2022-05-23T07:11:43.043041",
     "status": "completed"
    },
    "tags": []
   },
   "outputs": [
    {
     "data": {
      "text/html": [
       "<div>\n",
       "<style scoped>\n",
       "    .dataframe tbody tr th:only-of-type {\n",
       "        vertical-align: middle;\n",
       "    }\n",
       "\n",
       "    .dataframe tbody tr th {\n",
       "        vertical-align: top;\n",
       "    }\n",
       "\n",
       "    .dataframe thead th {\n",
       "        text-align: right;\n",
       "    }\n",
       "</style>\n",
       "<table border=\"1\" class=\"dataframe\">\n",
       "  <thead>\n",
       "    <tr style=\"text-align: right;\">\n",
       "      <th></th>\n",
       "      <th>0</th>\n",
       "      <th>1</th>\n",
       "      <th>2</th>\n",
       "      <th>3</th>\n",
       "      <th>4</th>\n",
       "      <th>5</th>\n",
       "      <th>6</th>\n",
       "      <th>7</th>\n",
       "      <th>8</th>\n",
       "      <th>9</th>\n",
       "      <th>...</th>\n",
       "      <th>13</th>\n",
       "      <th>14</th>\n",
       "      <th>15</th>\n",
       "      <th>16</th>\n",
       "      <th>17</th>\n",
       "      <th>18</th>\n",
       "      <th>19</th>\n",
       "      <th>20</th>\n",
       "      <th>21</th>\n",
       "      <th>22</th>\n",
       "    </tr>\n",
       "  </thead>\n",
       "  <tbody>\n",
       "    <tr>\n",
       "      <th>0</th>\n",
       "      <td>0.481481</td>\n",
       "      <td>0.053070</td>\n",
       "      <td>0.0</td>\n",
       "      <td>1.0</td>\n",
       "      <td>0.0</td>\n",
       "      <td>0.9375</td>\n",
       "      <td>0.698753</td>\n",
       "      <td>0.60251</td>\n",
       "      <td>0.957379</td>\n",
       "      <td>0.859735</td>\n",
       "      <td>...</td>\n",
       "      <td>0.0</td>\n",
       "      <td>0.0</td>\n",
       "      <td>0.0</td>\n",
       "      <td>0.0</td>\n",
       "      <td>1.0</td>\n",
       "      <td>1.0</td>\n",
       "      <td>0.0</td>\n",
       "      <td>0.0</td>\n",
       "      <td>0.0</td>\n",
       "      <td>0.0</td>\n",
       "    </tr>\n",
       "    <tr>\n",
       "      <th>1</th>\n",
       "      <td>0.493827</td>\n",
       "      <td>0.030297</td>\n",
       "      <td>0.0</td>\n",
       "      <td>1.0</td>\n",
       "      <td>0.0</td>\n",
       "      <td>0.9375</td>\n",
       "      <td>0.698753</td>\n",
       "      <td>0.60251</td>\n",
       "      <td>0.957379</td>\n",
       "      <td>0.859735</td>\n",
       "      <td>...</td>\n",
       "      <td>1.0</td>\n",
       "      <td>0.0</td>\n",
       "      <td>0.0</td>\n",
       "      <td>0.0</td>\n",
       "      <td>1.0</td>\n",
       "      <td>1.0</td>\n",
       "      <td>0.0</td>\n",
       "      <td>0.0</td>\n",
       "      <td>0.0</td>\n",
       "      <td>0.0</td>\n",
       "    </tr>\n",
       "    <tr>\n",
       "      <th>2</th>\n",
       "      <td>0.246914</td>\n",
       "      <td>0.045954</td>\n",
       "      <td>0.0</td>\n",
       "      <td>1.0</td>\n",
       "      <td>0.0</td>\n",
       "      <td>0.9375</td>\n",
       "      <td>0.698753</td>\n",
       "      <td>0.60251</td>\n",
       "      <td>0.957379</td>\n",
       "      <td>0.859735</td>\n",
       "      <td>...</td>\n",
       "      <td>1.0</td>\n",
       "      <td>0.0</td>\n",
       "      <td>1.0</td>\n",
       "      <td>0.0</td>\n",
       "      <td>1.0</td>\n",
       "      <td>1.0</td>\n",
       "      <td>0.0</td>\n",
       "      <td>0.0</td>\n",
       "      <td>0.0</td>\n",
       "      <td>0.0</td>\n",
       "    </tr>\n",
       "    <tr>\n",
       "      <th>3</th>\n",
       "      <td>0.283951</td>\n",
       "      <td>0.030704</td>\n",
       "      <td>0.0</td>\n",
       "      <td>1.0</td>\n",
       "      <td>0.0</td>\n",
       "      <td>0.9375</td>\n",
       "      <td>0.698753</td>\n",
       "      <td>0.60251</td>\n",
       "      <td>0.957379</td>\n",
       "      <td>0.859735</td>\n",
       "      <td>...</td>\n",
       "      <td>0.0</td>\n",
       "      <td>0.0</td>\n",
       "      <td>0.0</td>\n",
       "      <td>0.0</td>\n",
       "      <td>1.0</td>\n",
       "      <td>1.0</td>\n",
       "      <td>0.0</td>\n",
       "      <td>0.0</td>\n",
       "      <td>0.0</td>\n",
       "      <td>0.0</td>\n",
       "    </tr>\n",
       "    <tr>\n",
       "      <th>4</th>\n",
       "      <td>0.481481</td>\n",
       "      <td>0.062424</td>\n",
       "      <td>0.0</td>\n",
       "      <td>1.0</td>\n",
       "      <td>0.0</td>\n",
       "      <td>0.9375</td>\n",
       "      <td>0.698753</td>\n",
       "      <td>0.60251</td>\n",
       "      <td>0.957379</td>\n",
       "      <td>0.859735</td>\n",
       "      <td>...</td>\n",
       "      <td>1.0</td>\n",
       "      <td>0.0</td>\n",
       "      <td>0.0</td>\n",
       "      <td>1.0</td>\n",
       "      <td>1.0</td>\n",
       "      <td>1.0</td>\n",
       "      <td>0.0</td>\n",
       "      <td>0.0</td>\n",
       "      <td>0.0</td>\n",
       "      <td>0.0</td>\n",
       "    </tr>\n",
       "  </tbody>\n",
       "</table>\n",
       "<p>5 rows × 23 columns</p>\n",
       "</div>"
      ],
      "text/plain": [
       "         0         1    2    3    4       5         6        7         8   \\\n",
       "0  0.481481  0.053070  0.0  1.0  0.0  0.9375  0.698753  0.60251  0.957379   \n",
       "1  0.493827  0.030297  0.0  1.0  0.0  0.9375  0.698753  0.60251  0.957379   \n",
       "2  0.246914  0.045954  0.0  1.0  0.0  0.9375  0.698753  0.60251  0.957379   \n",
       "3  0.283951  0.030704  0.0  1.0  0.0  0.9375  0.698753  0.60251  0.957379   \n",
       "4  0.481481  0.062424  0.0  1.0  0.0  0.9375  0.698753  0.60251  0.957379   \n",
       "\n",
       "         9   ...   13   14   15   16   17   18   19   20   21   22  \n",
       "0  0.859735  ...  0.0  0.0  0.0  0.0  1.0  1.0  0.0  0.0  0.0  0.0  \n",
       "1  0.859735  ...  1.0  0.0  0.0  0.0  1.0  1.0  0.0  0.0  0.0  0.0  \n",
       "2  0.859735  ...  1.0  0.0  1.0  0.0  1.0  1.0  0.0  0.0  0.0  0.0  \n",
       "3  0.859735  ...  0.0  0.0  0.0  0.0  1.0  1.0  0.0  0.0  0.0  0.0  \n",
       "4  0.859735  ...  1.0  0.0  0.0  1.0  1.0  1.0  0.0  0.0  0.0  0.0  \n",
       "\n",
       "[5 rows x 23 columns]"
      ]
     },
     "execution_count": 24,
     "metadata": {},
     "output_type": "execute_result"
    }
   ],
   "source": [
    "data_std= pd.DataFrame(data_standardised)\n",
    "data_std.head()"
   ]
  },
  {
   "cell_type": "code",
   "execution_count": 25,
   "id": "0dfdc38f",
   "metadata": {
    "execution": {
     "iopub.execute_input": "2022-05-23T07:11:43.314068Z",
     "iopub.status.busy": "2022-05-23T07:11:43.313572Z",
     "iopub.status.idle": "2022-05-23T07:11:43.328239Z",
     "shell.execute_reply": "2022-05-23T07:11:43.326618Z"
    },
    "papermill": {
     "duration": 0.097459,
     "end_time": "2022-05-23T07:11:43.330922",
     "exception": false,
     "start_time": "2022-05-23T07:11:43.233463",
     "status": "completed"
    },
    "tags": []
   },
   "outputs": [
    {
     "name": "stdout",
     "output_type": "stream",
     "text": [
      "<class 'pandas.core.frame.DataFrame'>\n",
      "RangeIndex: 41188 entries, 0 to 41187\n",
      "Data columns (total 23 columns):\n",
      " #   Column  Non-Null Count  Dtype  \n",
      "---  ------  --------------  -----  \n",
      " 0   0       41188 non-null  float64\n",
      " 1   1       41188 non-null  float64\n",
      " 2   2       41188 non-null  float64\n",
      " 3   3       41188 non-null  float64\n",
      " 4   4       41188 non-null  float64\n",
      " 5   5       41188 non-null  float64\n",
      " 6   6       41188 non-null  float64\n",
      " 7   7       41188 non-null  float64\n",
      " 8   8       41188 non-null  float64\n",
      " 9   9       41188 non-null  float64\n",
      " 10  10      41188 non-null  float64\n",
      " 11  11      41188 non-null  float64\n",
      " 12  12      41188 non-null  float64\n",
      " 13  13      41188 non-null  float64\n",
      " 14  14      41188 non-null  float64\n",
      " 15  15      41188 non-null  float64\n",
      " 16  16      41188 non-null  float64\n",
      " 17  17      41188 non-null  float64\n",
      " 18  18      41188 non-null  float64\n",
      " 19  19      41188 non-null  float64\n",
      " 20  20      41188 non-null  float64\n",
      " 21  21      41188 non-null  float64\n",
      " 22  22      41188 non-null  float64\n",
      "dtypes: float64(23)\n",
      "memory usage: 7.2 MB\n"
     ]
    }
   ],
   "source": [
    "data_std.info()"
   ]
  },
  {
   "cell_type": "markdown",
   "id": "7f9f2202",
   "metadata": {
    "papermill": {
     "duration": 0.078756,
     "end_time": "2022-05-23T07:11:43.488715",
     "exception": false,
     "start_time": "2022-05-23T07:11:43.409959",
     "status": "completed"
    },
    "tags": []
   },
   "source": [
    "### BUILDING SUPERVISED MODELS"
   ]
  },
  {
   "cell_type": "code",
   "execution_count": 26,
   "id": "b241af74",
   "metadata": {
    "execution": {
     "iopub.execute_input": "2022-05-23T07:11:43.649161Z",
     "iopub.status.busy": "2022-05-23T07:11:43.648884Z",
     "iopub.status.idle": "2022-05-23T07:11:43.653251Z",
     "shell.execute_reply": "2022-05-23T07:11:43.652167Z"
    },
    "papermill": {
     "duration": 0.08647,
     "end_time": "2022-05-23T07:11:43.655537",
     "exception": false,
     "start_time": "2022-05-23T07:11:43.569067",
     "status": "completed"
    },
    "tags": []
   },
   "outputs": [],
   "source": [
    "X= data_std"
   ]
  },
  {
   "cell_type": "code",
   "execution_count": 27,
   "id": "46e2564d",
   "metadata": {
    "execution": {
     "iopub.execute_input": "2022-05-23T07:11:43.817646Z",
     "iopub.status.busy": "2022-05-23T07:11:43.816995Z",
     "iopub.status.idle": "2022-05-23T07:11:43.821778Z",
     "shell.execute_reply": "2022-05-23T07:11:43.821213Z"
    },
    "papermill": {
     "duration": 0.086628,
     "end_time": "2022-05-23T07:11:43.823537",
     "exception": false,
     "start_time": "2022-05-23T07:11:43.736909",
     "status": "completed"
    },
    "tags": []
   },
   "outputs": [
    {
     "data": {
      "text/plain": [
       "(41188, 23)"
      ]
     },
     "execution_count": 27,
     "metadata": {},
     "output_type": "execute_result"
    }
   ],
   "source": [
    "X.shape"
   ]
  },
  {
   "cell_type": "code",
   "execution_count": 28,
   "id": "912e352d",
   "metadata": {
    "execution": {
     "iopub.execute_input": "2022-05-23T07:11:43.985298Z",
     "iopub.status.busy": "2022-05-23T07:11:43.984364Z",
     "iopub.status.idle": "2022-05-23T07:11:43.989682Z",
     "shell.execute_reply": "2022-05-23T07:11:43.988702Z"
    },
    "papermill": {
     "duration": 0.08793,
     "end_time": "2022-05-23T07:11:43.991990",
     "exception": false,
     "start_time": "2022-05-23T07:11:43.904060",
     "status": "completed"
    },
    "tags": []
   },
   "outputs": [],
   "source": [
    "y= pd.DataFrame(df_features['y'])"
   ]
  },
  {
   "cell_type": "code",
   "execution_count": 29,
   "id": "8a95175b",
   "metadata": {
    "execution": {
     "iopub.execute_input": "2022-05-23T07:11:44.153128Z",
     "iopub.status.busy": "2022-05-23T07:11:44.152837Z",
     "iopub.status.idle": "2022-05-23T07:11:44.158457Z",
     "shell.execute_reply": "2022-05-23T07:11:44.157629Z"
    },
    "papermill": {
     "duration": 0.087847,
     "end_time": "2022-05-23T07:11:44.160375",
     "exception": false,
     "start_time": "2022-05-23T07:11:44.072528",
     "status": "completed"
    },
    "tags": []
   },
   "outputs": [
    {
     "data": {
      "text/plain": [
       "(41188, 1)"
      ]
     },
     "execution_count": 29,
     "metadata": {},
     "output_type": "execute_result"
    }
   ],
   "source": [
    "y.shape"
   ]
  },
  {
   "cell_type": "code",
   "execution_count": 30,
   "id": "05f6e427",
   "metadata": {
    "execution": {
     "iopub.execute_input": "2022-05-23T07:11:44.320938Z",
     "iopub.status.busy": "2022-05-23T07:11:44.320639Z",
     "iopub.status.idle": "2022-05-23T07:11:44.330773Z",
     "shell.execute_reply": "2022-05-23T07:11:44.330182Z"
    },
    "papermill": {
     "duration": 0.092863,
     "end_time": "2022-05-23T07:11:44.333011",
     "exception": false,
     "start_time": "2022-05-23T07:11:44.240148",
     "status": "completed"
    },
    "tags": []
   },
   "outputs": [
    {
     "name": "stdout",
     "output_type": "stream",
     "text": [
      "<class 'pandas.core.frame.DataFrame'>\n",
      "RangeIndex: 41188 entries, 0 to 41187\n",
      "Data columns (total 1 columns):\n",
      " #   Column  Non-Null Count  Dtype\n",
      "---  ------  --------------  -----\n",
      " 0   y       41188 non-null  int64\n",
      "dtypes: int64(1)\n",
      "memory usage: 321.9 KB\n"
     ]
    }
   ],
   "source": [
    "y.info()"
   ]
  },
  {
   "cell_type": "code",
   "execution_count": 31,
   "id": "de62488f",
   "metadata": {
    "execution": {
     "iopub.execute_input": "2022-05-23T07:11:44.495019Z",
     "iopub.status.busy": "2022-05-23T07:11:44.494469Z",
     "iopub.status.idle": "2022-05-23T07:11:44.511399Z",
     "shell.execute_reply": "2022-05-23T07:11:44.510445Z"
    },
    "papermill": {
     "duration": 0.100374,
     "end_time": "2022-05-23T07:11:44.513770",
     "exception": false,
     "start_time": "2022-05-23T07:11:44.413396",
     "status": "completed"
    },
    "tags": []
   },
   "outputs": [
    {
     "name": "stdout",
     "output_type": "stream",
     "text": [
      "trainx  (28831, 23)\n",
      "testx  (12357, 23)\n",
      "trainy  (28831, 1)\n",
      "testy  (12357, 1)\n"
     ]
    }
   ],
   "source": [
    "# spilting the dataset into training and testing\n",
    "trainx, testx, trainy, testy = train_test_split(X, y, test_size = 0.30, random_state=10)\n",
    "\n",
    "print(\"trainx \",trainx.shape)\n",
    "\n",
    "print(\"testx \",testx.shape)\n",
    "\n",
    "print(\"trainy \",trainy.shape)\n",
    "\n",
    "print(\"testy \",testy.shape)"
   ]
  },
  {
   "cell_type": "markdown",
   "id": "e5653c82",
   "metadata": {
    "papermill": {
     "duration": 0.079937,
     "end_time": "2022-05-23T07:11:44.675624",
     "exception": false,
     "start_time": "2022-05-23T07:11:44.595687",
     "status": "completed"
    },
    "tags": []
   },
   "source": [
    "### SIMPLE LOGISTIC REGRESSION"
   ]
  },
  {
   "cell_type": "code",
   "execution_count": 32,
   "id": "b689cf2f",
   "metadata": {
    "execution": {
     "iopub.execute_input": "2022-05-23T07:11:44.843433Z",
     "iopub.status.busy": "2022-05-23T07:11:44.843010Z",
     "iopub.status.idle": "2022-05-23T07:11:46.044986Z",
     "shell.execute_reply": "2022-05-23T07:11:46.043382Z"
    },
    "papermill": {
     "duration": 1.290396,
     "end_time": "2022-05-23T07:11:46.050351",
     "exception": false,
     "start_time": "2022-05-23T07:11:44.759955",
     "status": "completed"
    },
    "tags": []
   },
   "outputs": [
    {
     "name": "stdout",
     "output_type": "stream",
     "text": [
      "Optimization terminated successfully.\n",
      "         Current function value: 0.212454\n",
      "         Iterations 8\n",
      "                           Logit Regression Results                           \n",
      "==============================================================================\n",
      "Dep. Variable:                      y   No. Observations:                28831\n",
      "Model:                          Logit   Df Residuals:                    28808\n",
      "Method:                           MLE   Df Model:                           22\n",
      "Date:                Mon, 01 Aug 2022   Pseudo R-squ.:                  0.3928\n",
      "Time:                        12:14:01   Log-Likelihood:                -6125.3\n",
      "converged:                       True   LL-Null:                       -10087.\n",
      "Covariance Type:            nonrobust   LLR p-value:                     0.000\n",
      "==============================================================================\n",
      "                 coef    std err          z      P>|z|      [0.025      0.975]\n",
      "------------------------------------------------------------------------------\n",
      "0              0.3918      0.182      2.153      0.031       0.035       0.748\n",
      "1             22.5210      0.429     52.490      0.000      21.680      23.362\n",
      "2             -2.0690      0.761     -2.717      0.007      -3.561      -0.577\n",
      "3             -1.8481      0.195     -9.464      0.000      -2.231      -1.465\n",
      "4             -2.3960      0.311     -7.708      0.000      -3.005      -1.787\n",
      "5             -4.1217      0.395    -10.431      0.000      -4.896      -3.347\n",
      "6              2.1751      0.288      7.562      0.000       1.611       2.739\n",
      "7              0.6590      0.141      4.676      0.000       0.383       0.935\n",
      "8              1.8401      0.369      4.986      0.000       1.117       2.563\n",
      "9             -2.5501      0.365     -6.990      0.000      -3.265      -1.835\n",
      "10             0.1221      0.067      1.811      0.070      -0.010       0.254\n",
      "11            -0.1101      0.077     -1.422      0.155      -0.262       0.042\n",
      "12             0.0806      0.087      0.923      0.356      -0.091       0.252\n",
      "13            -0.0009      0.064     -0.014      0.989      -0.126       0.124\n",
      "14             0.2482      0.056      4.405      0.000       0.138       0.359\n",
      "15            -0.0016      0.048     -0.034      0.973      -0.096       0.093\n",
      "16            -0.0456      0.068     -0.676      0.499      -0.178       0.087\n",
      "17            -0.8051      0.074    -10.894      0.000      -0.950      -0.660\n",
      "18            -0.0851      0.077     -1.101      0.271      -0.236       0.066\n",
      "19             0.0647      0.075      0.859      0.390      -0.083       0.212\n",
      "20             0.0908      0.077      1.177      0.239      -0.060       0.242\n",
      "21             0.0932      0.077      1.207      0.228      -0.058       0.245\n",
      "22             0.1414      0.201      0.702      0.483      -0.253       0.536\n",
      "==============================================================================\n"
     ]
    }
   ],
   "source": [
    "# logistic regression performs binary classifications, and gives probability output\n",
    "import statsmodels.api as sm\n",
    "from sklearn.linear_model import LogisticRegression\n",
    "log_reg_model = sm.Logit(trainy, trainx).fit()\n",
    "print(log_reg_model.summary())"
   ]
  },
  {
   "cell_type": "markdown",
   "id": "e6fc9a5b",
   "metadata": {
    "papermill": {
     "duration": 0.081402,
     "end_time": "2022-05-23T07:11:46.257641",
     "exception": false,
     "start_time": "2022-05-23T07:11:46.176239",
     "status": "completed"
    },
    "tags": []
   },
   "source": [
    "It is noticed that 8 iterations were performed. p value near zero or low indicates the model is statistically alright. Moving forward with prediicting y and then evaluation matrix"
   ]
  },
  {
   "cell_type": "code",
   "execution_count": 33,
   "id": "cdc1a057",
   "metadata": {
    "execution": {
     "iopub.execute_input": "2022-05-23T07:11:46.421001Z",
     "iopub.status.busy": "2022-05-23T07:11:46.420728Z",
     "iopub.status.idle": "2022-05-23T07:11:46.437519Z",
     "shell.execute_reply": "2022-05-23T07:11:46.436575Z"
    },
    "papermill": {
     "duration": 0.102426,
     "end_time": "2022-05-23T07:11:46.440606",
     "exception": false,
     "start_time": "2022-05-23T07:11:46.338180",
     "status": "completed"
    },
    "tags": []
   },
   "outputs": [
    {
     "data": {
      "text/plain": [
       "29773    0.062592\n",
       "14070    0.068129\n",
       "39364    0.450767\n",
       "29279    0.061301\n",
       "11888    0.003388\n",
       "dtype: float64"
      ]
     },
     "execution_count": 33,
     "metadata": {},
     "output_type": "execute_result"
    }
   ],
   "source": [
    "# let 'y_pred_prob' be the predicted values of y\n",
    "y_pred_prob = log_reg_model.predict(testx)\n",
    "\n",
    "# print the y_pred_prob\n",
    "y_pred_prob.head()"
   ]
  },
  {
   "cell_type": "code",
   "execution_count": 34,
   "id": "b836516c",
   "metadata": {
    "execution": {
     "iopub.execute_input": "2022-05-23T07:11:46.661453Z",
     "iopub.status.busy": "2022-05-23T07:11:46.661156Z",
     "iopub.status.idle": "2022-05-23T07:11:46.672892Z",
     "shell.execute_reply": "2022-05-23T07:11:46.672048Z"
    },
    "papermill": {
     "duration": 0.098374,
     "end_time": "2022-05-23T07:11:46.674726",
     "exception": false,
     "start_time": "2022-05-23T07:11:46.576352",
     "status": "completed"
    },
    "tags": []
   },
   "outputs": [
    {
     "data": {
      "text/plain": [
       "array([0., 0., 0., 0., 0.], dtype=float32)"
      ]
     },
     "execution_count": 34,
     "metadata": {},
     "output_type": "execute_result"
    }
   ],
   "source": [
    "# convert probabilities to 0 and 1 using 'if_else'\n",
    "predy = ['0' if x < 0.5 else '1' for x in y_pred_prob]\n",
    "# convert the predicted values to type 'float32'\n",
    "predy = np.array(predy, dtype=np.float32)\n",
    "\n",
    "# print the first five predictions\n",
    "predy[0:5]"
   ]
  },
  {
   "cell_type": "markdown",
   "id": "9ad344d3",
   "metadata": {
    "papermill": {
     "duration": 0.08095,
     "end_time": "2022-05-23T07:11:46.838023",
     "exception": false,
     "start_time": "2022-05-23T07:11:46.757073",
     "status": "completed"
    },
    "tags": []
   },
   "source": [
    "The above process of considering probability is done because confusion matrix doesnot provide result when continuos and binary data is fed into it."
   ]
  },
  {
   "cell_type": "code",
   "execution_count": 35,
   "id": "a165bf37",
   "metadata": {
    "execution": {
     "iopub.execute_input": "2022-05-23T07:11:47.001467Z",
     "iopub.status.busy": "2022-05-23T07:11:47.001162Z",
     "iopub.status.idle": "2022-05-23T07:11:47.016260Z",
     "shell.execute_reply": "2022-05-23T07:11:47.015445Z"
    },
    "papermill": {
     "duration": 0.099138,
     "end_time": "2022-05-23T07:11:47.018258",
     "exception": false,
     "start_time": "2022-05-23T07:11:46.919120",
     "status": "completed"
    },
    "tags": []
   },
   "outputs": [
    {
     "data": {
      "text/html": [
       "<div>\n",
       "<style scoped>\n",
       "    .dataframe tbody tr th:only-of-type {\n",
       "        vertical-align: middle;\n",
       "    }\n",
       "\n",
       "    .dataframe tbody tr th {\n",
       "        vertical-align: top;\n",
       "    }\n",
       "\n",
       "    .dataframe thead th {\n",
       "        text-align: right;\n",
       "    }\n",
       "</style>\n",
       "<table border=\"1\" class=\"dataframe\">\n",
       "  <thead>\n",
       "    <tr style=\"text-align: right;\">\n",
       "      <th></th>\n",
       "      <th>Predicted 0</th>\n",
       "      <th>Predicted 1</th>\n",
       "    </tr>\n",
       "  </thead>\n",
       "  <tbody>\n",
       "    <tr>\n",
       "      <th>Actual 0</th>\n",
       "      <td>10657</td>\n",
       "      <td>278</td>\n",
       "    </tr>\n",
       "    <tr>\n",
       "      <th>Actual 1</th>\n",
       "      <td>859</td>\n",
       "      <td>563</td>\n",
       "    </tr>\n",
       "  </tbody>\n",
       "</table>\n",
       "</div>"
      ],
      "text/plain": [
       "          Predicted 0  Predicted 1\n",
       "Actual 0        10657          278\n",
       "Actual 1          859          563"
      ]
     },
     "execution_count": 35,
     "metadata": {},
     "output_type": "execute_result"
    }
   ],
   "source": [
    "# Evaluation Metrics 1- Confusion matrics\n",
    "from sklearn import metrics\n",
    "from sklearn.metrics import confusion_matrix\n",
    "cf1=pd.DataFrame(confusion_matrix(testy,predy),columns=['Predicted 0','Predicted 1'], index =['Actual 0','Actual 1'])\n",
    "cf1"
   ]
  },
  {
   "cell_type": "code",
   "execution_count": 36,
   "id": "bc1026f4",
   "metadata": {
    "execution": {
     "iopub.execute_input": "2022-05-23T07:11:47.185879Z",
     "iopub.status.busy": "2022-05-23T07:11:47.185369Z",
     "iopub.status.idle": "2022-05-23T07:11:47.216375Z",
     "shell.execute_reply": "2022-05-23T07:11:47.215755Z"
    },
    "papermill": {
     "duration": 0.1167,
     "end_time": "2022-05-23T07:11:47.218685",
     "exception": false,
     "start_time": "2022-05-23T07:11:47.101985",
     "status": "completed"
    },
    "tags": []
   },
   "outputs": [
    {
     "name": "stdout",
     "output_type": "stream",
     "text": [
      "              precision    recall  f1-score   support\n",
      "\n",
      "           0       0.93      0.97      0.95     10935\n",
      "           1       0.67      0.40      0.50      1422\n",
      "\n",
      "    accuracy                           0.91     12357\n",
      "   macro avg       0.80      0.69      0.72     12357\n",
      "weighted avg       0.90      0.91      0.90     12357\n",
      "\n"
     ]
    }
   ],
   "source": [
    "# Evaluation Metrics 2- Accuracy using Classification Report\n",
    "from sklearn.metrics import classification_report\n",
    "test_report1 = classification_report(testy,predy)\n",
    "print(test_report1)"
   ]
  },
  {
   "cell_type": "code",
   "execution_count": 37,
   "id": "b53d6c37",
   "metadata": {
    "execution": {
     "iopub.execute_input": "2022-05-23T07:11:47.386682Z",
     "iopub.status.busy": "2022-05-23T07:11:47.386231Z",
     "iopub.status.idle": "2022-05-23T07:11:47.395729Z",
     "shell.execute_reply": "2022-05-23T07:11:47.394454Z"
    },
    "papermill": {
     "duration": 0.096421,
     "end_time": "2022-05-23T07:11:47.398198",
     "exception": false,
     "start_time": "2022-05-23T07:11:47.301777",
     "status": "completed"
    },
    "tags": []
   },
   "outputs": [
    {
     "name": "stdout",
     "output_type": "stream",
     "text": [
      "0.45057636476835083\n"
     ]
    }
   ],
   "source": [
    "# Evaluation Metrics 3- Cohen value using Kappa score\n",
    "from sklearn.metrics import cohen_kappa_score\n",
    "kappa_value1 = cohen_kappa_score(testy, predy)\n",
    "print(kappa_value1)"
   ]
  },
  {
   "cell_type": "code",
   "execution_count": 38,
   "id": "9c1c287b",
   "metadata": {
    "execution": {
     "iopub.execute_input": "2022-05-23T07:11:47.569601Z",
     "iopub.status.busy": "2022-05-23T07:11:47.568813Z",
     "iopub.status.idle": "2022-05-23T07:11:47.780261Z",
     "shell.execute_reply": "2022-05-23T07:11:47.779600Z"
    },
    "papermill": {
     "duration": 0.299088,
     "end_time": "2022-05-23T07:11:47.782207",
     "exception": false,
     "start_time": "2022-05-23T07:11:47.483119",
     "status": "completed"
    },
    "tags": []
   },
   "outputs": [
    {
     "data": {
      "text/plain": [
       "Text(0.02, 0.9, \"('AUC Score:', 0.9248)\")"
      ]
     },
     "execution_count": 38,
     "metadata": {},
     "output_type": "execute_result"
    },
    {
     "data": {
      "image/png": "[encoded data removed]",
      "text/plain": [
       "<Figure size 432x288 with 1 Axes>"
      ]
     },
     "metadata": {
      "needs_background": "light"
     },
     "output_type": "display_data"
    }
   ],
   "source": [
    "# Evaluation metrics 4- Plot the ROC curve to get AUC score\n",
    "\n",
    "from sklearn.metrics import roc_auc_score\n",
    "from sklearn.metrics import roc_curve\n",
    "\n",
    "fpr, tpr, thresholds = roc_curve(testy,y_pred_prob)\n",
    "plt.plot(fpr, tpr)\n",
    "\n",
    "plt.title('ROC Curve', fontsize = 15)\n",
    "plt.xlabel('False positive rate (1-Specificity)', fontsize = 15)\n",
    "plt.ylabel('True positive rate (Sensitivity)', fontsize = 15)\n",
    "\n",
    "plt.text(x = 0.02, y = 0.9, s = ('AUC Score:',round(roc_auc_score(testy, y_pred_prob),4)))"
   ]
  },
  {
   "cell_type": "code",
   "execution_count": 39,
   "id": "2822e63b",
   "metadata": {
    "execution": {
     "iopub.execute_input": "2022-05-23T07:11:47.952394Z",
     "iopub.status.busy": "2022-05-23T07:11:47.951860Z",
     "iopub.status.idle": "2022-05-23T07:11:48.000866Z",
     "shell.execute_reply": "2022-05-23T07:11:47.999686Z"
    },
    "papermill": {
     "duration": 0.136858,
     "end_time": "2022-05-23T07:11:48.003118",
     "exception": false,
     "start_time": "2022-05-23T07:11:47.866260",
     "status": "completed"
    },
    "tags": []
   },
   "outputs": [
    {
     "data": {
      "text/html": [
       "<div>\n",
       "<style scoped>\n",
       "    .dataframe tbody tr th:only-of-type {\n",
       "        vertical-align: middle;\n",
       "    }\n",
       "\n",
       "    .dataframe tbody tr th {\n",
       "        vertical-align: top;\n",
       "    }\n",
       "\n",
       "    .dataframe thead th {\n",
       "        text-align: right;\n",
       "    }\n",
       "</style>\n",
       "<table border=\"1\" class=\"dataframe\">\n",
       "  <thead>\n",
       "    <tr style=\"text-align: right;\">\n",
       "      <th></th>\n",
       "      <th>Model</th>\n",
       "      <th>AUC Score</th>\n",
       "      <th>Precision Score</th>\n",
       "      <th>Recall Score</th>\n",
       "      <th>Accuracy Score</th>\n",
       "      <th>Kappa Score</th>\n",
       "      <th>f1-score</th>\n",
       "    </tr>\n",
       "  </thead>\n",
       "  <tbody>\n",
       "    <tr>\n",
       "      <th>0</th>\n",
       "      <td>Logistic Regresion</td>\n",
       "      <td>0.924839</td>\n",
       "      <td>0.669441</td>\n",
       "      <td>0.395921</td>\n",
       "      <td>0.907987</td>\n",
       "      <td>0.450576</td>\n",
       "      <td>0.49757</td>\n",
       "    </tr>\n",
       "  </tbody>\n",
       "</table>\n",
       "</div>"
      ],
      "text/plain": [
       "                Model  AUC Score  Precision Score  Recall Score  \\\n",
       "0  Logistic Regresion   0.924839         0.669441      0.395921   \n",
       "\n",
       "   Accuracy Score  Kappa Score  f1-score  \n",
       "0        0.907987     0.450576   0.49757  "
      ]
     },
     "execution_count": 39,
     "metadata": {},
     "output_type": "execute_result"
    }
   ],
   "source": [
    "# tabulate the results\n",
    "score_card = pd.DataFrame(columns=['Model', 'AUC Score', 'Precision Score', 'Recall Score', 'Accuracy Score',\n",
    "                                   'Kappa Score', 'f1-score'])\n",
    "score_card = score_card.append({'Model': 'Logistic Regresion',\n",
    "                                    'AUC Score' : roc_auc_score(testy, y_pred_prob),\n",
    "                                    'Precision Score': metrics.precision_score(testy, predy),\n",
    "                                    'Recall Score': metrics.recall_score(testy, predy),\n",
    "                                    'Accuracy Score': metrics.accuracy_score(testy, predy),\n",
    "                                    'Kappa Score': cohen_kappa_score(testy, predy),\n",
    "                                    'f1-score': metrics.f1_score(testy, predy)}, \n",
    "                                    ignore_index = True)\n",
    "score_card"
   ]
  },
  {
   "cell_type": "markdown",
   "id": "27e017e3",
   "metadata": {
    "papermill": {
     "duration": 0.08445,
     "end_time": "2022-05-23T07:11:48.173507",
     "exception": false,
     "start_time": "2022-05-23T07:11:48.089057",
     "status": "completed"
    },
    "tags": []
   },
   "source": [
    "###  ADABOOST"
   ]
  },
  {
   "cell_type": "code",
   "execution_count": 40,
   "id": "59f8854d",
   "metadata": {
    "execution": {
     "iopub.execute_input": "2022-05-23T07:11:48.349062Z",
     "iopub.status.busy": "2022-05-23T07:11:48.348182Z",
     "iopub.status.idle": "2022-05-23T07:11:49.402829Z",
     "shell.execute_reply": "2022-05-23T07:11:49.402015Z"
    },
    "papermill": {
     "duration": 1.143666,
     "end_time": "2022-05-23T07:11:49.404935",
     "exception": false,
     "start_time": "2022-05-23T07:11:48.261269",
     "status": "completed"
    },
    "tags": []
   },
   "outputs": [
    {
     "name": "stderr",
     "output_type": "stream",
     "text": [
      "C:\\ProgramData\\Anaconda3\\lib\\site-packages\\sklearn\\utils\\validation.py:993: DataConversionWarning: A column-vector y was passed when a 1d array was expected. Please change the shape of y to (n_samples, ), for example using ravel().\n",
      "  y = column_or_1d(y, warn=True)\n"
     ]
    },
    {
     "data": {
      "text/plain": [
       "AdaBoostClassifier(random_state=10)"
      ]
     },
     "execution_count": 40,
     "metadata": {},
     "output_type": "execute_result"
    }
   ],
   "source": [
    "from sklearn.ensemble import AdaBoostClassifier\n",
    "\n",
    "# build the model\n",
    "adaboost = AdaBoostClassifier(random_state=10)\n",
    "# fit the model\n",
    "adaboost.fit(trainx, trainy)"
   ]
  },
  {
   "cell_type": "code",
   "execution_count": 41,
   "id": "b445c9c0",
   "metadata": {
    "execution": {
     "iopub.execute_input": "2022-05-23T07:11:49.579589Z",
     "iopub.status.busy": "2022-05-23T07:11:49.578663Z",
     "iopub.status.idle": "2022-05-23T07:11:49.672888Z",
     "shell.execute_reply": "2022-05-23T07:11:49.672099Z"
    },
    "papermill": {
     "duration": 0.183188,
     "end_time": "2022-05-23T07:11:49.675185",
     "exception": false,
     "start_time": "2022-05-23T07:11:49.491997",
     "status": "completed"
    },
    "tags": []
   },
   "outputs": [],
   "source": [
    "y_pred_adaboost = adaboost.predict(testx)"
   ]
  },
  {
   "cell_type": "code",
   "execution_count": 42,
   "id": "1509de09",
   "metadata": {
    "execution": {
     "iopub.execute_input": "2022-05-23T07:11:49.848795Z",
     "iopub.status.busy": "2022-05-23T07:11:49.848530Z",
     "iopub.status.idle": "2022-05-23T07:11:49.860737Z",
     "shell.execute_reply": "2022-05-23T07:11:49.859847Z"
    },
    "papermill": {
     "duration": 0.10113,
     "end_time": "2022-05-23T07:11:49.862730",
     "exception": false,
     "start_time": "2022-05-23T07:11:49.761600",
     "status": "completed"
    },
    "tags": []
   },
   "outputs": [
    {
     "data": {
      "text/html": [
       "<div>\n",
       "<style scoped>\n",
       "    .dataframe tbody tr th:only-of-type {\n",
       "        vertical-align: middle;\n",
       "    }\n",
       "\n",
       "    .dataframe tbody tr th {\n",
       "        vertical-align: top;\n",
       "    }\n",
       "\n",
       "    .dataframe thead th {\n",
       "        text-align: right;\n",
       "    }\n",
       "</style>\n",
       "<table border=\"1\" class=\"dataframe\">\n",
       "  <thead>\n",
       "    <tr style=\"text-align: right;\">\n",
       "      <th></th>\n",
       "      <th>Predicted 0</th>\n",
       "      <th>Predicted 1</th>\n",
       "    </tr>\n",
       "  </thead>\n",
       "  <tbody>\n",
       "    <tr>\n",
       "      <th>Actual 0</th>\n",
       "      <td>10688</td>\n",
       "      <td>247</td>\n",
       "    </tr>\n",
       "    <tr>\n",
       "      <th>Actual 1</th>\n",
       "      <td>915</td>\n",
       "      <td>507</td>\n",
       "    </tr>\n",
       "  </tbody>\n",
       "</table>\n",
       "</div>"
      ],
      "text/plain": [
       "          Predicted 0  Predicted 1\n",
       "Actual 0        10688          247\n",
       "Actual 1          915          507"
      ]
     },
     "execution_count": 42,
     "metadata": {},
     "output_type": "execute_result"
    }
   ],
   "source": [
    "# Evaluation Metrics 1- Confusion matrics\n",
    "cf2=pd.DataFrame(confusion_matrix(testy,y_pred_adaboost),columns=['Predicted 0','Predicted 1'], index =['Actual 0','Actual 1'])\n",
    "cf2"
   ]
  },
  {
   "cell_type": "code",
   "execution_count": 43,
   "id": "ef11e5ad",
   "metadata": {
    "execution": {
     "iopub.execute_input": "2022-05-23T07:11:50.037198Z",
     "iopub.status.busy": "2022-05-23T07:11:50.036604Z",
     "iopub.status.idle": "2022-05-23T07:11:50.063951Z",
     "shell.execute_reply": "2022-05-23T07:11:50.062323Z"
    },
    "papermill": {
     "duration": 0.118739,
     "end_time": "2022-05-23T07:11:50.066975",
     "exception": false,
     "start_time": "2022-05-23T07:11:49.948236",
     "status": "completed"
    },
    "tags": []
   },
   "outputs": [
    {
     "name": "stdout",
     "output_type": "stream",
     "text": [
      "              precision    recall  f1-score   support\n",
      "\n",
      "           0       0.92      0.98      0.95     10935\n",
      "           1       0.67      0.36      0.47      1422\n",
      "\n",
      "    accuracy                           0.91     12357\n",
      "   macro avg       0.80      0.67      0.71     12357\n",
      "weighted avg       0.89      0.91      0.89     12357\n",
      "\n"
     ]
    }
   ],
   "source": [
    "# Evaluation Metrics 2- Accuracy using Classification Report\n",
    "test_report2 = classification_report(testy,y_pred_adaboost)\n",
    "print(test_report2)"
   ]
  },
  {
   "cell_type": "code",
   "execution_count": 44,
   "id": "feefa836",
   "metadata": {
    "execution": {
     "iopub.execute_input": "2022-05-23T07:11:50.240877Z",
     "iopub.status.busy": "2022-05-23T07:11:50.240319Z",
     "iopub.status.idle": "2022-05-23T07:11:50.248887Z",
     "shell.execute_reply": "2022-05-23T07:11:50.247538Z"
    },
    "papermill": {
     "duration": 0.098338,
     "end_time": "2022-05-23T07:11:50.251582",
     "exception": false,
     "start_time": "2022-05-23T07:11:50.153244",
     "status": "completed"
    },
    "tags": []
   },
   "outputs": [
    {
     "name": "stdout",
     "output_type": "stream",
     "text": [
      "0.4197151070930797\n"
     ]
    }
   ],
   "source": [
    "# Evaluation Metrics 3- Cohen value using Kappa score\n",
    "kappa_value2 = cohen_kappa_score(testy, y_pred_adaboost)\n",
    "print(kappa_value2)"
   ]
  },
  {
   "cell_type": "code",
   "execution_count": 45,
   "id": "4a142cc2",
   "metadata": {
    "execution": {
     "iopub.execute_input": "2022-05-23T07:11:50.426534Z",
     "iopub.status.busy": "2022-05-23T07:11:50.426003Z",
     "iopub.status.idle": "2022-05-23T07:11:50.622704Z",
     "shell.execute_reply": "2022-05-23T07:11:50.621864Z"
    },
    "papermill": {
     "duration": 0.286501,
     "end_time": "2022-05-23T07:11:50.624971",
     "exception": false,
     "start_time": "2022-05-23T07:11:50.338470",
     "status": "completed"
    },
    "tags": []
   },
   "outputs": [
    {
     "data": {
      "text/plain": [
       "Text(0.02, 0.9, \"('AUC Score:', 0.667)\")"
      ]
     },
     "execution_count": 45,
     "metadata": {},
     "output_type": "execute_result"
    },
    {
     "data": {
      "image/png": "[encoded data removed]",
      "text/plain": [
       "<Figure size 432x288 with 1 Axes>"
      ]
     },
     "metadata": {
      "needs_background": "light"
     },
     "output_type": "display_data"
    }
   ],
   "source": [
    "# Evaluation metrics 4- Plot the ROC curve to get AUC score\n",
    "fpr, tpr, thresholds = roc_curve(testy, y_pred_adaboost)\n",
    "plt.plot(fpr, tpr)\n",
    "\n",
    "plt.title('ROC Curve', fontsize = 15)\n",
    "plt.xlabel('False positive rate (1-Specificity)', fontsize = 15)\n",
    "plt.ylabel('True positive rate (Sensitivity)', fontsize = 15)\n",
    "\n",
    "plt.text(x = 0.02, y = 0.9, s = ('AUC Score:',round(roc_auc_score(testy, y_pred_adaboost),4)))"
   ]
  },
  {
   "cell_type": "code",
   "execution_count": 46,
   "id": "8dab00fd",
   "metadata": {
    "execution": {
     "iopub.execute_input": "2022-05-23T07:11:50.804474Z",
     "iopub.status.busy": "2022-05-23T07:11:50.803953Z",
     "iopub.status.idle": "2022-05-23T07:11:50.844839Z",
     "shell.execute_reply": "2022-05-23T07:11:50.843996Z"
    },
    "papermill": {
     "duration": 0.132808,
     "end_time": "2022-05-23T07:11:50.846874",
     "exception": false,
     "start_time": "2022-05-23T07:11:50.714066",
     "status": "completed"
    },
    "tags": []
   },
   "outputs": [
    {
     "data": {
      "text/html": [
       "<div>\n",
       "<style scoped>\n",
       "    .dataframe tbody tr th:only-of-type {\n",
       "        vertical-align: middle;\n",
       "    }\n",
       "\n",
       "    .dataframe tbody tr th {\n",
       "        vertical-align: top;\n",
       "    }\n",
       "\n",
       "    .dataframe thead th {\n",
       "        text-align: right;\n",
       "    }\n",
       "</style>\n",
       "<table border=\"1\" class=\"dataframe\">\n",
       "  <thead>\n",
       "    <tr style=\"text-align: right;\">\n",
       "      <th></th>\n",
       "      <th>Model</th>\n",
       "      <th>AUC Score</th>\n",
       "      <th>Precision Score</th>\n",
       "      <th>Recall Score</th>\n",
       "      <th>Accuracy Score</th>\n",
       "      <th>Kappa Score</th>\n",
       "      <th>f1-score</th>\n",
       "    </tr>\n",
       "  </thead>\n",
       "  <tbody>\n",
       "    <tr>\n",
       "      <th>0</th>\n",
       "      <td>Logistic Regresion</td>\n",
       "      <td>0.924839</td>\n",
       "      <td>0.669441</td>\n",
       "      <td>0.395921</td>\n",
       "      <td>0.907987</td>\n",
       "      <td>0.450576</td>\n",
       "      <td>0.497570</td>\n",
       "    </tr>\n",
       "    <tr>\n",
       "      <th>1</th>\n",
       "      <td>AdaBoost</td>\n",
       "      <td>0.666976</td>\n",
       "      <td>0.672414</td>\n",
       "      <td>0.356540</td>\n",
       "      <td>0.905964</td>\n",
       "      <td>0.419715</td>\n",
       "      <td>0.465993</td>\n",
       "    </tr>\n",
       "  </tbody>\n",
       "</table>\n",
       "</div>"
      ],
      "text/plain": [
       "                Model  AUC Score  Precision Score  Recall Score  \\\n",
       "0  Logistic Regresion   0.924839         0.669441      0.395921   \n",
       "1            AdaBoost   0.666976         0.672414      0.356540   \n",
       "\n",
       "   Accuracy Score  Kappa Score  f1-score  \n",
       "0        0.907987     0.450576  0.497570  \n",
       "1        0.905964     0.419715  0.465993  "
      ]
     },
     "execution_count": 46,
     "metadata": {},
     "output_type": "execute_result"
    }
   ],
   "source": [
    "adaboost_metrics = pd.Series({'Model': \"AdaBoost\",\n",
    "                     'AUC Score' : metrics.roc_auc_score(testy, y_pred_adaboost),\n",
    "                 'Precision Score': metrics.precision_score(testy, y_pred_adaboost),\n",
    "                 'Recall Score': metrics.recall_score(testy, y_pred_adaboost),\n",
    "                 'Accuracy Score': metrics.accuracy_score(testy, y_pred_adaboost),\n",
    "                 'Kappa Score': cohen_kappa_score(testy, y_pred_adaboost),\n",
    "                  'f1-score':metrics.f1_score(testy, y_pred_adaboost)})\n",
    "score_card = score_card.append(adaboost_metrics , ignore_index = True)\n",
    "score_card"
   ]
  },
  {
   "cell_type": "markdown",
   "id": "ad89d22b",
   "metadata": {
    "papermill": {
     "duration": 0.088624,
     "end_time": "2022-05-23T07:11:51.024537",
     "exception": false,
     "start_time": "2022-05-23T07:11:50.935913",
     "status": "completed"
    },
    "tags": []
   },
   "source": [
    "### K-NEAREST NEIGHBOUR(KNN)"
   ]
  },
  {
   "cell_type": "code",
   "execution_count": 47,
   "id": "6f0ecdbd",
   "metadata": {
    "execution": {
     "iopub.execute_input": "2022-05-23T07:11:51.205105Z",
     "iopub.status.busy": "2022-05-23T07:11:51.204551Z",
     "iopub.status.idle": "2022-05-23T07:11:51.213179Z",
     "shell.execute_reply": "2022-05-23T07:11:51.212647Z"
    },
    "papermill": {
     "duration": 0.101049,
     "end_time": "2022-05-23T07:11:51.215185",
     "exception": false,
     "start_time": "2022-05-23T07:11:51.114136",
     "status": "completed"
    },
    "tags": []
   },
   "outputs": [],
   "source": [
    "# KNN is classification algorithm that provides class output, default value of n-neighbours = 5\n",
    "from sklearn.neighbors import KNeighborsClassifier\n",
    "knn_model=KNeighborsClassifier(n_neighbors=5).fit(trainx,trainy.values.ravel())"
   ]
  },
  {
   "cell_type": "code",
   "execution_count": 48,
   "id": "7d9d0f01",
   "metadata": {
    "execution": {
     "iopub.execute_input": "2022-05-23T07:11:51.394334Z",
     "iopub.status.busy": "2022-05-23T07:11:51.393783Z",
     "iopub.status.idle": "2022-05-23T07:11:59.191909Z",
     "shell.execute_reply": "2022-05-23T07:11:59.191117Z"
    },
    "papermill": {
     "duration": 7.890947,
     "end_time": "2022-05-23T07:11:59.194747",
     "exception": false,
     "start_time": "2022-05-23T07:11:51.303800",
     "status": "completed"
    },
    "tags": []
   },
   "outputs": [],
   "source": [
    "predy=knn_model.predict(testx)"
   ]
  },
  {
   "cell_type": "code",
   "execution_count": 49,
   "id": "76b37301",
   "metadata": {
    "execution": {
     "iopub.execute_input": "2022-05-23T07:11:59.376060Z",
     "iopub.status.busy": "2022-05-23T07:11:59.375768Z",
     "iopub.status.idle": "2022-05-23T07:11:59.387915Z",
     "shell.execute_reply": "2022-05-23T07:11:59.387155Z"
    },
    "papermill": {
     "duration": 0.104252,
     "end_time": "2022-05-23T07:11:59.389983",
     "exception": false,
     "start_time": "2022-05-23T07:11:59.285731",
     "status": "completed"
    },
    "tags": []
   },
   "outputs": [
    {
     "data": {
      "text/html": [
       "<div>\n",
       "<style scoped>\n",
       "    .dataframe tbody tr th:only-of-type {\n",
       "        vertical-align: middle;\n",
       "    }\n",
       "\n",
       "    .dataframe tbody tr th {\n",
       "        vertical-align: top;\n",
       "    }\n",
       "\n",
       "    .dataframe thead th {\n",
       "        text-align: right;\n",
       "    }\n",
       "</style>\n",
       "<table border=\"1\" class=\"dataframe\">\n",
       "  <thead>\n",
       "    <tr style=\"text-align: right;\">\n",
       "      <th></th>\n",
       "      <th>Predicted 0</th>\n",
       "      <th>Predicted 1</th>\n",
       "    </tr>\n",
       "  </thead>\n",
       "  <tbody>\n",
       "    <tr>\n",
       "      <th>Actual 0</th>\n",
       "      <td>10631</td>\n",
       "      <td>304</td>\n",
       "    </tr>\n",
       "    <tr>\n",
       "      <th>Actual 1</th>\n",
       "      <td>1050</td>\n",
       "      <td>372</td>\n",
       "    </tr>\n",
       "  </tbody>\n",
       "</table>\n",
       "</div>"
      ],
      "text/plain": [
       "          Predicted 0  Predicted 1\n",
       "Actual 0        10631          304\n",
       "Actual 1         1050          372"
      ]
     },
     "execution_count": 49,
     "metadata": {},
     "output_type": "execute_result"
    }
   ],
   "source": [
    "# Evaluation Metrics 1- Confusion matrics\n",
    "cf3=pd.DataFrame(confusion_matrix(testy,predy),columns=['Predicted 0','Predicted 1'], index =['Actual 0','Actual 1'])\n",
    "cf3"
   ]
  },
  {
   "cell_type": "code",
   "execution_count": 50,
   "id": "1f7e84f3",
   "metadata": {
    "execution": {
     "iopub.execute_input": "2022-05-23T07:11:59.570790Z",
     "iopub.status.busy": "2022-05-23T07:11:59.569941Z",
     "iopub.status.idle": "2022-05-23T07:11:59.597639Z",
     "shell.execute_reply": "2022-05-23T07:11:59.596678Z"
    },
    "papermill": {
     "duration": 0.120289,
     "end_time": "2022-05-23T07:11:59.599966",
     "exception": false,
     "start_time": "2022-05-23T07:11:59.479677",
     "status": "completed"
    },
    "tags": []
   },
   "outputs": [
    {
     "name": "stdout",
     "output_type": "stream",
     "text": [
      "              precision    recall  f1-score   support\n",
      "\n",
      "           0       0.91      0.97      0.94     10935\n",
      "           1       0.55      0.26      0.35      1422\n",
      "\n",
      "    accuracy                           0.89     12357\n",
      "   macro avg       0.73      0.62      0.65     12357\n",
      "weighted avg       0.87      0.89      0.87     12357\n",
      "\n"
     ]
    }
   ],
   "source": [
    "# Evaluation Metrics 2- Accuracy using Classification Report\n",
    "test_report3 = classification_report(testy,predy)\n",
    "print(test_report3)"
   ]
  },
  {
   "cell_type": "code",
   "execution_count": 51,
   "id": "7fdc9f61",
   "metadata": {
    "execution": {
     "iopub.execute_input": "2022-05-23T07:11:59.782552Z",
     "iopub.status.busy": "2022-05-23T07:11:59.782295Z",
     "iopub.status.idle": "2022-05-23T07:11:59.790759Z",
     "shell.execute_reply": "2022-05-23T07:11:59.789586Z"
    },
    "papermill": {
     "duration": 0.101683,
     "end_time": "2022-05-23T07:11:59.792878",
     "exception": false,
     "start_time": "2022-05-23T07:11:59.691195",
     "status": "completed"
    },
    "tags": []
   },
   "outputs": [
    {
     "name": "stdout",
     "output_type": "stream",
     "text": [
      "0.3029301768545051\n"
     ]
    }
   ],
   "source": [
    "# Evaluation Metrics 3- Cohen value using Kappa score\n",
    "kappa_value3 = cohen_kappa_score(testy, predy)\n",
    "print(kappa_value3)"
   ]
  },
  {
   "cell_type": "code",
   "execution_count": 52,
   "id": "22a11948",
   "metadata": {
    "execution": {
     "iopub.execute_input": "2022-05-23T07:11:59.977271Z",
     "iopub.status.busy": "2022-05-23T07:11:59.976998Z",
     "iopub.status.idle": "2022-05-23T07:12:00.129841Z",
     "shell.execute_reply": "2022-05-23T07:12:00.128990Z"
    },
    "papermill": {
     "duration": 0.249136,
     "end_time": "2022-05-23T07:12:00.132092",
     "exception": false,
     "start_time": "2022-05-23T07:11:59.882956",
     "status": "completed"
    },
    "tags": []
   },
   "outputs": [
    {
     "data": {
      "text/plain": [
       "Text(0.02, 0.9, \"('AUC Score:', 0.6169)\")"
      ]
     },
     "execution_count": 52,
     "metadata": {},
     "output_type": "execute_result"
    },
    {
     "data": {
      "image/png": "[encoded data removed]",
      "text/plain": [
       "<Figure size 432x288 with 1 Axes>"
      ]
     },
     "metadata": {
      "needs_background": "light"
     },
     "output_type": "display_data"
    }
   ],
   "source": [
    "# Evaluation metrics 4- Plot the ROC curve to get AUC score\n",
    "fpr, tpr, thresholds = roc_curve(testy, predy)\n",
    "plt.plot(fpr, tpr)\n",
    "\n",
    "plt.title('ROC Curve', fontsize = 15)\n",
    "plt.xlabel('False positive rate (1-Specificity)', fontsize = 15)\n",
    "plt.ylabel('True positive rate (Sensitivity)', fontsize = 15)\n",
    "\n",
    "plt.text(x = 0.02, y = 0.9, s = ('AUC Score:',round(roc_auc_score(testy, predy),4)))"
   ]
  },
  {
   "cell_type": "code",
   "execution_count": 53,
   "id": "38e37a96",
   "metadata": {
    "execution": {
     "iopub.execute_input": "2022-05-23T07:12:00.318110Z",
     "iopub.status.busy": "2022-05-23T07:12:00.317533Z",
     "iopub.status.idle": "2022-05-23T07:12:00.358743Z",
     "shell.execute_reply": "2022-05-23T07:12:00.357884Z"
    },
    "papermill": {
     "duration": 0.136316,
     "end_time": "2022-05-23T07:12:00.360922",
     "exception": false,
     "start_time": "2022-05-23T07:12:00.224606",
     "status": "completed"
    },
    "tags": []
   },
   "outputs": [
    {
     "data": {
      "text/html": [
       "<div>\n",
       "<style scoped>\n",
       "    .dataframe tbody tr th:only-of-type {\n",
       "        vertical-align: middle;\n",
       "    }\n",
       "\n",
       "    .dataframe tbody tr th {\n",
       "        vertical-align: top;\n",
       "    }\n",
       "\n",
       "    .dataframe thead th {\n",
       "        text-align: right;\n",
       "    }\n",
       "</style>\n",
       "<table border=\"1\" class=\"dataframe\">\n",
       "  <thead>\n",
       "    <tr style=\"text-align: right;\">\n",
       "      <th></th>\n",
       "      <th>Model</th>\n",
       "      <th>AUC Score</th>\n",
       "      <th>Precision Score</th>\n",
       "      <th>Recall Score</th>\n",
       "      <th>Accuracy Score</th>\n",
       "      <th>Kappa Score</th>\n",
       "      <th>f1-score</th>\n",
       "    </tr>\n",
       "  </thead>\n",
       "  <tbody>\n",
       "    <tr>\n",
       "      <th>0</th>\n",
       "      <td>Logistic Regresion</td>\n",
       "      <td>0.924839</td>\n",
       "      <td>0.669441</td>\n",
       "      <td>0.395921</td>\n",
       "      <td>0.907987</td>\n",
       "      <td>0.450576</td>\n",
       "      <td>0.497570</td>\n",
       "    </tr>\n",
       "    <tr>\n",
       "      <th>1</th>\n",
       "      <td>AdaBoost</td>\n",
       "      <td>0.666976</td>\n",
       "      <td>0.672414</td>\n",
       "      <td>0.356540</td>\n",
       "      <td>0.905964</td>\n",
       "      <td>0.419715</td>\n",
       "      <td>0.465993</td>\n",
       "    </tr>\n",
       "    <tr>\n",
       "      <th>2</th>\n",
       "      <td>KNN</td>\n",
       "      <td>0.616901</td>\n",
       "      <td>0.550296</td>\n",
       "      <td>0.261603</td>\n",
       "      <td>0.890426</td>\n",
       "      <td>0.302930</td>\n",
       "      <td>0.354623</td>\n",
       "    </tr>\n",
       "  </tbody>\n",
       "</table>\n",
       "</div>"
      ],
      "text/plain": [
       "                Model  AUC Score  Precision Score  Recall Score  \\\n",
       "0  Logistic Regresion   0.924839         0.669441      0.395921   \n",
       "1            AdaBoost   0.666976         0.672414      0.356540   \n",
       "2                 KNN   0.616901         0.550296      0.261603   \n",
       "\n",
       "   Accuracy Score  Kappa Score  f1-score  \n",
       "0        0.907987     0.450576  0.497570  \n",
       "1        0.905964     0.419715  0.465993  \n",
       "2        0.890426     0.302930  0.354623  "
      ]
     },
     "execution_count": 53,
     "metadata": {},
     "output_type": "execute_result"
    }
   ],
   "source": [
    "knn_metrics = pd.Series({'Model': \"KNN\",\n",
    "                     'AUC Score' : metrics.roc_auc_score(testy, predy),\n",
    "                 'Precision Score': metrics.precision_score(testy, predy),\n",
    "                 'Recall Score': metrics.recall_score(testy, predy),\n",
    "                 'Accuracy Score': metrics.accuracy_score(testy,predy),\n",
    "                 'Kappa Score': cohen_kappa_score(testy, predy),\n",
    "                  'f1-score':metrics.f1_score(testy, predy)})\n",
    "score_card = score_card.append(knn_metrics , ignore_index = True)\n",
    "score_card"
   ]
  },
  {
   "cell_type": "markdown",
   "id": "6bde3d77",
   "metadata": {
    "papermill": {
     "duration": 0.092576,
     "end_time": "2022-05-23T07:12:00.545936",
     "exception": false,
     "start_time": "2022-05-23T07:12:00.453360",
     "status": "completed"
    },
    "tags": []
   },
   "source": [
    "### SUPPORT VECTOR MACHINE(SVM)"
   ]
  },
  {
   "cell_type": "code",
   "execution_count": 54,
   "id": "dfceca6f",
   "metadata": {
    "execution": {
     "iopub.execute_input": "2022-05-23T07:12:00.735727Z",
     "iopub.status.busy": "2022-05-23T07:12:00.734936Z",
     "iopub.status.idle": "2022-05-23T07:12:10.104986Z",
     "shell.execute_reply": "2022-05-23T07:12:10.104346Z"
    },
    "papermill": {
     "duration": 9.466304,
     "end_time": "2022-05-23T07:12:10.107244",
     "exception": false,
     "start_time": "2022-05-23T07:12:00.640940",
     "status": "completed"
    },
    "tags": []
   },
   "outputs": [],
   "source": [
    "# provides class output\n",
    "from sklearn.svm import SVC\n",
    "from sklearn import linear_model\n",
    "svm_lin_model= SVC(kernel='linear').fit(trainx,trainy.values.ravel())"
   ]
  },
  {
   "cell_type": "code",
   "execution_count": 55,
   "id": "793ab2bc",
   "metadata": {
    "execution": {
     "iopub.execute_input": "2022-05-23T07:12:10.295124Z",
     "iopub.status.busy": "2022-05-23T07:12:10.294804Z",
     "iopub.status.idle": "2022-05-23T07:12:12.745155Z",
     "shell.execute_reply": "2022-05-23T07:12:12.744377Z"
    },
    "papermill": {
     "duration": 2.546298,
     "end_time": "2022-05-23T07:12:12.747679",
     "exception": false,
     "start_time": "2022-05-23T07:12:10.201381",
     "status": "completed"
    },
    "tags": []
   },
   "outputs": [],
   "source": [
    "predy=svm_lin_model.predict(testx)"
   ]
  },
  {
   "cell_type": "code",
   "execution_count": 56,
   "id": "4a6f2e1f",
   "metadata": {
    "execution": {
     "iopub.execute_input": "2022-05-23T07:12:12.936938Z",
     "iopub.status.busy": "2022-05-23T07:12:12.936376Z",
     "iopub.status.idle": "2022-05-23T07:12:12.949669Z",
     "shell.execute_reply": "2022-05-23T07:12:12.948888Z"
    },
    "papermill": {
     "duration": 0.11013,
     "end_time": "2022-05-23T07:12:12.951618",
     "exception": false,
     "start_time": "2022-05-23T07:12:12.841488",
     "status": "completed"
    },
    "tags": []
   },
   "outputs": [
    {
     "data": {
      "text/html": [
       "<div>\n",
       "<style scoped>\n",
       "    .dataframe tbody tr th:only-of-type {\n",
       "        vertical-align: middle;\n",
       "    }\n",
       "\n",
       "    .dataframe tbody tr th {\n",
       "        vertical-align: top;\n",
       "    }\n",
       "\n",
       "    .dataframe thead th {\n",
       "        text-align: right;\n",
       "    }\n",
       "</style>\n",
       "<table border=\"1\" class=\"dataframe\">\n",
       "  <thead>\n",
       "    <tr style=\"text-align: right;\">\n",
       "      <th></th>\n",
       "      <th>Predicted 0</th>\n",
       "      <th>Predicted 1</th>\n",
       "    </tr>\n",
       "  </thead>\n",
       "  <tbody>\n",
       "    <tr>\n",
       "      <th>Actual 0</th>\n",
       "      <td>10750</td>\n",
       "      <td>185</td>\n",
       "    </tr>\n",
       "    <tr>\n",
       "      <th>Actual 1</th>\n",
       "      <td>1091</td>\n",
       "      <td>331</td>\n",
       "    </tr>\n",
       "  </tbody>\n",
       "</table>\n",
       "</div>"
      ],
      "text/plain": [
       "          Predicted 0  Predicted 1\n",
       "Actual 0        10750          185\n",
       "Actual 1         1091          331"
      ]
     },
     "execution_count": 56,
     "metadata": {},
     "output_type": "execute_result"
    }
   ],
   "source": [
    "# Evaluation Metrics 1- Confusion matrics\n",
    "cf4=pd.DataFrame(confusion_matrix(testy,predy),columns=['Predicted 0','Predicted 1'], index =['Actual 0','Actual 1'])\n",
    "cf4"
   ]
  },
  {
   "cell_type": "code",
   "execution_count": 57,
   "id": "be560956",
   "metadata": {
    "execution": {
     "iopub.execute_input": "2022-05-23T07:12:13.141195Z",
     "iopub.status.busy": "2022-05-23T07:12:13.140782Z",
     "iopub.status.idle": "2022-05-23T07:12:13.166235Z",
     "shell.execute_reply": "2022-05-23T07:12:13.165556Z"
    },
    "papermill": {
     "duration": 0.123886,
     "end_time": "2022-05-23T07:12:13.168862",
     "exception": false,
     "start_time": "2022-05-23T07:12:13.044976",
     "status": "completed"
    },
    "tags": []
   },
   "outputs": [
    {
     "name": "stdout",
     "output_type": "stream",
     "text": [
      "              precision    recall  f1-score   support\n",
      "\n",
      "           0       0.91      0.98      0.94     10935\n",
      "           1       0.64      0.23      0.34      1422\n",
      "\n",
      "    accuracy                           0.90     12357\n",
      "   macro avg       0.77      0.61      0.64     12357\n",
      "weighted avg       0.88      0.90      0.87     12357\n",
      "\n"
     ]
    }
   ],
   "source": [
    "# Evaluation Metrics 2- Accuracy using Classification Report\n",
    "test_report4 = classification_report(testy,predy)\n",
    "print(test_report4)"
   ]
  },
  {
   "cell_type": "code",
   "execution_count": 58,
   "id": "c0004dba",
   "metadata": {
    "execution": {
     "iopub.execute_input": "2022-05-23T07:12:13.359734Z",
     "iopub.status.busy": "2022-05-23T07:12:13.358917Z",
     "iopub.status.idle": "2022-05-23T07:12:13.368213Z",
     "shell.execute_reply": "2022-05-23T07:12:13.367082Z"
    },
    "papermill": {
     "duration": 0.105797,
     "end_time": "2022-05-23T07:12:13.370576",
     "exception": false,
     "start_time": "2022-05-23T07:12:13.264779",
     "status": "completed"
    },
    "tags": []
   },
   "outputs": [
    {
     "name": "stdout",
     "output_type": "stream",
     "text": [
      "0.29860862560843104\n"
     ]
    }
   ],
   "source": [
    "# Evaluation Metrics 3- Cohen value using Kappa score\n",
    "kappa_value4 = cohen_kappa_score(testy, predy)\n",
    "print(kappa_value4)"
   ]
  },
  {
   "cell_type": "code",
   "execution_count": 59,
   "id": "7f7dd9d6",
   "metadata": {
    "execution": {
     "iopub.execute_input": "2022-05-23T07:12:13.560141Z",
     "iopub.status.busy": "2022-05-23T07:12:13.559574Z",
     "iopub.status.idle": "2022-05-23T07:12:13.773925Z",
     "shell.execute_reply": "2022-05-23T07:12:13.772431Z"
    },
    "papermill": {
     "duration": 0.312828,
     "end_time": "2022-05-23T07:12:13.777258",
     "exception": false,
     "start_time": "2022-05-23T07:12:13.464430",
     "status": "completed"
    },
    "tags": []
   },
   "outputs": [
    {
     "data": {
      "text/plain": [
       "Text(0.02, 0.9, \"('AUC Score:', 0.6079)\")"
      ]
     },
     "execution_count": 59,
     "metadata": {},
     "output_type": "execute_result"
    },
    {
     "data": {
      "image/png": "[encoded data removed]",
      "text/plain": [
       "<Figure size 432x288 with 1 Axes>"
      ]
     },
     "metadata": {
      "needs_background": "light"
     },
     "output_type": "display_data"
    }
   ],
   "source": [
    "# Evaluation metrics 4- Plot the ROC curve to get AUC score\n",
    "fpr, tpr, thresholds = roc_curve(testy, predy)\n",
    "plt.plot(fpr, tpr)\n",
    "\n",
    "plt.title('ROC Curve', fontsize = 15)\n",
    "plt.xlabel('False positive rate (1-Specificity)', fontsize = 15)\n",
    "plt.ylabel('True positive rate (Sensitivity)', fontsize = 15)\n",
    "\n",
    "plt.text(x = 0.02, y = 0.9, s = ('AUC Score:',round(roc_auc_score(testy, predy),4)))"
   ]
  },
  {
   "cell_type": "markdown",
   "id": "a13480ca",
   "metadata": {},
   "source": [
    "### Decision Tree"
   ]
  },
  {
   "cell_type": "code",
   "execution_count": 63,
   "id": "2af5b431",
   "metadata": {},
   "outputs": [],
   "source": [
    "from sklearn.tree import DecisionTreeClassifier\n",
    "dt=DecisionTreeClassifier()\n",
    "dt.fit(trainx,trainy)\n",
    "y_hat=dt.predict(testx)"
   ]
  },
  {
   "cell_type": "code",
   "execution_count": 65,
   "id": "540cd66f",
   "metadata": {},
   "outputs": [
    {
     "data": {
      "text/plain": [
       "1.0"
      ]
     },
     "execution_count": 65,
     "metadata": {},
     "output_type": "execute_result"
    }
   ],
   "source": [
    "## Evalauting the model\n",
    "from sklearn.metrics import accuracy_score,classification_report,f1_score\n",
    "## Training score\n",
    "train_predict=dt.predict(trainx)\n",
    "cc_train=accuracy_score(trainy,train_predict)\n",
    "cc_train"
   ]
  },
  {
   "cell_type": "code",
   "execution_count": 61,
   "id": "0b03f942",
   "metadata": {
    "execution": {
     "iopub.execute_input": "2022-05-23T07:12:13.978647Z",
     "iopub.status.busy": "2022-05-23T07:12:13.977917Z",
     "iopub.status.idle": "2022-05-23T07:12:14.021936Z",
     "shell.execute_reply": "2022-05-23T07:12:14.021078Z"
    },
    "papermill": {
     "duration": 0.143534,
     "end_time": "2022-05-23T07:12:14.023874",
     "exception": false,
     "start_time": "2022-05-23T07:12:13.880340",
     "status": "completed"
    },
    "tags": []
   },
   "outputs": [
    {
     "data": {
      "text/html": [
       "<div>\n",
       "<style scoped>\n",
       "    .dataframe tbody tr th:only-of-type {\n",
       "        vertical-align: middle;\n",
       "    }\n",
       "\n",
       "    .dataframe tbody tr th {\n",
       "        vertical-align: top;\n",
       "    }\n",
       "\n",
       "    .dataframe thead th {\n",
       "        text-align: right;\n",
       "    }\n",
       "</style>\n",
       "<table border=\"1\" class=\"dataframe\">\n",
       "  <thead>\n",
       "    <tr style=\"text-align: right;\">\n",
       "      <th></th>\n",
       "      <th>Model</th>\n",
       "      <th>AUC Score</th>\n",
       "      <th>Precision Score</th>\n",
       "      <th>Recall Score</th>\n",
       "      <th>Accuracy Score</th>\n",
       "      <th>Kappa Score</th>\n",
       "      <th>f1-score</th>\n",
       "    </tr>\n",
       "  </thead>\n",
       "  <tbody>\n",
       "    <tr>\n",
       "      <th>0</th>\n",
       "      <td>Logistic Regresion</td>\n",
       "      <td>0.924839</td>\n",
       "      <td>0.669441</td>\n",
       "      <td>0.395921</td>\n",
       "      <td>0.907987</td>\n",
       "      <td>0.450576</td>\n",
       "      <td>0.497570</td>\n",
       "    </tr>\n",
       "    <tr>\n",
       "      <th>1</th>\n",
       "      <td>AdaBoost</td>\n",
       "      <td>0.666976</td>\n",
       "      <td>0.672414</td>\n",
       "      <td>0.356540</td>\n",
       "      <td>0.905964</td>\n",
       "      <td>0.419715</td>\n",
       "      <td>0.465993</td>\n",
       "    </tr>\n",
       "    <tr>\n",
       "      <th>2</th>\n",
       "      <td>KNN</td>\n",
       "      <td>0.616901</td>\n",
       "      <td>0.550296</td>\n",
       "      <td>0.261603</td>\n",
       "      <td>0.890426</td>\n",
       "      <td>0.302930</td>\n",
       "      <td>0.354623</td>\n",
       "    </tr>\n",
       "    <tr>\n",
       "      <th>3</th>\n",
       "      <td>SVM</td>\n",
       "      <td>0.607926</td>\n",
       "      <td>0.641473</td>\n",
       "      <td>0.232771</td>\n",
       "      <td>0.896739</td>\n",
       "      <td>0.298609</td>\n",
       "      <td>0.341589</td>\n",
       "    </tr>\n",
       "  </tbody>\n",
       "</table>\n",
       "</div>"
      ],
      "text/plain": [
       "                Model  AUC Score  Precision Score  Recall Score  \\\n",
       "0  Logistic Regresion   0.924839         0.669441      0.395921   \n",
       "1            AdaBoost   0.666976         0.672414      0.356540   \n",
       "2                 KNN   0.616901         0.550296      0.261603   \n",
       "3                 SVM   0.607926         0.641473      0.232771   \n",
       "\n",
       "   Accuracy Score  Kappa Score  f1-score  \n",
       "0        0.907987     0.450576  0.497570  \n",
       "1        0.905964     0.419715  0.465993  \n",
       "2        0.890426     0.302930  0.354623  \n",
       "3        0.896739     0.298609  0.341589  "
      ]
     },
     "execution_count": 61,
     "metadata": {},
     "output_type": "execute_result"
    }
   ],
   "source": [
    "svm_metrics = pd.Series({'Model': \"SVM\",\n",
    "                     'AUC Score' : metrics.roc_auc_score(testy, predy),\n",
    "                 'Precision Score': metrics.precision_score(testy, predy),\n",
    "                 'Recall Score': metrics.recall_score(testy, predy),\n",
    "                 'Accuracy Score': metrics.accuracy_score(testy,predy),\n",
    "                 'Kappa Score': cohen_kappa_score(testy, predy),\n",
    "                  'f1-score':metrics.f1_score(testy, predy)})\n",
    "score_card = score_card.append(svm_metrics , ignore_index = True)\n",
    "score_card"
   ]
  },
  {
   "cell_type": "markdown",
   "id": "21526ef3",
   "metadata": {
    "papermill": {
     "duration": 0.096266,
     "end_time": "2022-05-23T07:12:14.218172",
     "exception": false,
     "start_time": "2022-05-23T07:12:14.121906",
     "status": "completed"
    },
    "tags": []
   },
   "source": [
    "**AUC score of Logistic Regression is high which makes it a good model for prediction.\n",
    "But higher precision, recall, accuracy, kappa and f1 score makes Adaboost the better model in comparision with all the others.**"
   ]
  }
 ],
 "metadata": {
  "kernelspec": {
   "display_name": "Python 3 (ipykernel)",
   "language": "python",
   "name": "python3"
  },
  "language_info": {
   "codemirror_mode": {
    "name": "ipython",
    "version": 3
   },
   "file_extension": ".py",
   "mimetype": "text/x-python",
   "name": "python",
   "nbconvert_exporter": "python",
   "pygments_lexer": "ipython3",
   "version": "3.9.7"
  },
  "papermill": {
   "default_parameters": {},
   "duration": 308.901727,
   "end_time": "2022-05-23T07:12:16.601047",
   "environment_variables": {},
   "exception": null,
   "input_path": "__notebook__.ipynb",
   "output_path": "__notebook__.ipynb",
   "parameters": {},
   "start_time": "2022-05-23T07:07:07.699320",
   "version": "2.3.4"
  }
 },
 "nbformat": 4,
 "nbformat_minor": 5
}
